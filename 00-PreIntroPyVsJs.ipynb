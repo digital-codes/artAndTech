{
 "cells": [
  {
   "cell_type": "markdown",
   "id": "a22afdee",
   "metadata": {},
   "source": [
    "# Javscript vs. Python3\n",
    "Tutorial by ChatGPT\n",
    "\n",
    "Through these examples, you can observe the fundamental similarities and differences between JavaScript and Python. They both have robust capabilities, but the syntax and certain functionalities may vary, which influences the approach to tasks in each language.\n",
    "\n",
    "\n",
    "## Variables and Data Types\n",
    "\n",
    "### Javascript\n",
    "\n",
    "```\n",
    "\n",
    "let name = \"John Doe\";  // String\n",
    "let age = 25;           // Number\n",
    "let isStudent = true;   // Boolean\n",
    "\n",
    "```\n",
    "\n",
    "### Python"
   ]
  },
  {
   "cell_type": "code",
   "execution_count": null,
   "id": "52beb56b",
   "metadata": {},
   "outputs": [],
   "source": [
    "name = \"John Doe\"  ## String\n",
    "age = 25           ## Integer\n",
    "is_student = True  ## Boolean"
   ]
  },
  {
   "cell_type": "markdown",
   "id": "0009a4fe",
   "metadata": {},
   "source": [
    "## Arrays\n",
    "\n",
    "### Javascript\n",
    "\n",
    "```javascript\n",
    "\n",
    "let fruits = [\"apple\", \"banana\", \"cherry\"];\n",
    "console.log(fruits[0]);  // Output: apple\n",
    "console.log(fruits[1]);  // Output: banana\n",
    "console.log(fruits[2]);  // Output: cherry\n",
    "\n",
    "console.log(fruits[fruits.length - 1]);  // Output: cherry\n",
    "console.log(fruits[fruits.length - 2]);  // Output: banana\n",
    "console.log(fruits[fruits.length - 3]);  // Output: apple\n",
    "\n",
    "\n",
    "```\n",
    "\n",
    "### Python"
   ]
  },
  {
   "cell_type": "code",
   "execution_count": null,
   "id": "496a9d87",
   "metadata": {},
   "outputs": [],
   "source": [
    "fruits = [\"apple\", \"banana\", \"cherry\"]\n",
    "print(fruits[0])  ## Output: apple\n",
    "print(fruits[1])  ## Output: banana\n",
    "print(fruits[2])  ## Output: cherry\n",
    "\n",
    "print(fruits[-1])  ## Output: cherry\n",
    "print(fruits[-2])  ## Output: banana\n",
    "print(fruits[-3])  ## Output: apple\n"
   ]
  },
  {
   "cell_type": "markdown",
   "id": "c0eaf363",
   "metadata": {},
   "source": [
    "## Loops and Iterations\n",
    "\n",
    "### Javascript\n",
    "\n",
    "```javascript\n",
    "\n",
    "for (let i = 0; i < fruits.length; i++) {\n",
    "    console.log(fruits[i]);\n",
    "}\n",
    "\n",
    "\n",
    "```\n",
    "### Python\n"
   ]
  },
  {
   "cell_type": "code",
   "execution_count": null,
   "id": "10faf7a0",
   "metadata": {},
   "outputs": [],
   "source": [
    "for fruit in fruits:\n",
    "    print(fruit)\n"
   ]
  },
  {
   "cell_type": "markdown",
   "id": "abdf2d7b",
   "metadata": {},
   "source": [
    "## Conditionals\n",
    "\n",
    "### Javascript\n",
    "\n",
    "```javascript\n",
    "\n",
    "if (age >= 18) {\n",
    "    console.log(\"Adult\");\n",
    "} else {\n",
    "    console.log(\"Minor\");\n",
    "}\n",
    "\n",
    "\n",
    "```\n",
    "### Python\n"
   ]
  },
  {
   "cell_type": "code",
   "execution_count": null,
   "id": "4016c768",
   "metadata": {},
   "outputs": [],
   "source": [
    "if age >= 18:\n",
    "    print(\"Adult\")\n",
    "else:\n",
    "    print(\"Minor\")"
   ]
  },
  {
   "cell_type": "markdown",
   "id": "e1c4c40e",
   "metadata": {},
   "source": [
    "\n",
    "## Functions\n",
    "\n",
    "### Javascript\n",
    "\n",
    "```javascript\n",
    "\n",
    "function greet(name) {\n",
    "    console.log(\"Hello, \" + name);\n",
    "}\n",
    "greet(\"John\");\n",
    "\n",
    "\n",
    "```\n",
    "### Python\n"
   ]
  },
  {
   "cell_type": "code",
   "execution_count": null,
   "id": "73ef0c6f",
   "metadata": {},
   "outputs": [],
   "source": [
    "def greet(name):\n",
    "    print(\"Hello, \" + name)\n",
    "greet(\"John\")"
   ]
  },
  {
   "cell_type": "markdown",
   "id": "348313dd",
   "metadata": {},
   "source": [
    "## External Libraries\n",
    "\n",
    "### Javascript\n",
    "You can include external libraries in your HTML using the \\<script\\> tag, e.g., jQuery.\n",
    "\n",
    "```html\n",
    "\n",
    "<script src=\"https://ajax.googleapis.com/ajax/libs/jquery/3.5.1/jquery.min.js\"></script>\n",
    "```\n",
    "\n",
    "### Python\n",
    "External libraries are installed via pip and imported into your script.\n",
    "\n",
    "\n",
    "> pip install requests\n",
    "\n"
   ]
  },
  {
   "cell_type": "code",
   "execution_count": null,
   "id": "e4053572",
   "metadata": {},
   "outputs": [],
   "source": [
    "import requests"
   ]
  },
  {
   "cell_type": "markdown",
   "id": "ca91072a",
   "metadata": {},
   "source": [
    "Printing and formatting output is an essential part of programming, as it allows developers to interact with users or debug their code. Both JavaScript and Python have their own way of handling output formatting.\n",
    "\n",
    "## Printing\n",
    "\n",
    "### Javascript\n",
    "        You can use console.log() to print to the console.\n",
    "\n",
    "```javascript\n",
    "\n",
    "console.log(\"Hello, World!\");\n",
    "``` \n",
    "\n",
    "### Python\n",
    "        Use the print() function to output text to the console."
   ]
  },
  {
   "cell_type": "code",
   "execution_count": null,
   "id": "ca812a96",
   "metadata": {},
   "outputs": [],
   "source": [
    "print(\"Hello, World!\")"
   ]
  },
  {
   "cell_type": "markdown",
   "id": "349cf4a0",
   "metadata": {},
   "source": [
    "## Formatting\n",
    "\n",
    "### Javascript\n",
    "        Template literals allow you to include variables within strings easily.\n",
    "\n",
    "```javascript\n",
    "\n",
    "let name = \"John\";\n",
    "console.log(`Hello, ${name}!`);  // Outputs: Hello, John!\n",
    "```\n",
    "\n",
    "### Python\n",
    "There are several ways to format strings in Python. One common method is using the format() method:\n",
    "\n"
   ]
  },
  {
   "cell_type": "code",
   "execution_count": null,
   "id": "92ac1eb4",
   "metadata": {},
   "outputs": [],
   "source": [
    "name = \"John\"\n",
    "print(\"Hello, {}!\".format(name))  ## Outputs: Hello, John!\n",
    "\n",
    "# You can also use f-strings, which were introduced in Python 3.6:\n",
    "\n",
    "name = \"John\"\n",
    "print(f\"Hello, {name}!\")  ## Outputs: Hello, John!\n"
   ]
  },
  {
   "cell_type": "markdown",
   "id": "c373c844",
   "metadata": {},
   "source": [
    "## Full programs\n",
    "Sample programs to draw graphic primitives. assume canvas size 1024*786. libraries pixijs  (or equivalent) and pillow\n",
    "\n",
    "Creating graphical primitives often involves utilizing libraries that provide a range of drawing functions. Here are sample programs in JavaScript using PIXI.js and in Python using Pillow to draw a simple rectangle, circle, and line on a canvas of size 1024x786.\n",
    "JavaScript with PIXI.js\n",
    "\n",
    "PIXI.js is a popular library for rendering graphics using WebGL.\n",
    "\n",
    "### Javascript with PIXI\n",
    "\n",
    "```html\n",
    "\n",
    "<!DOCTYPE html>\n",
    "<html lang=\"en\">\n",
    "<head>\n",
    "<meta charset=\"UTF-8\">\n",
    "<meta name=\"viewport\" content=\"width=device-width, initial-scale=1.0\">\n",
    "<title>Graphics with PIXI.js</title>\n",
    "</head>\n",
    "<body>\n",
    "<script type=\"module\">\n",
    "    // Import PIXI.js\n",
    "    import * as PIXI from 'https://cdnjs.cloudflare.com/ajax/libs/pixi.js/6.2.2/browser/pixi.mjs';\n",
    "\n",
    "    // Create a new PIXI application with specified canvas size\n",
    "    let app = new PIXI.Application({ width: 1024, height: 786 });\n",
    "    document.body.appendChild(app.view);\n",
    "\n",
    "    // Draw a rectangle\n",
    "    let rectangle = new PIXI.Graphics();\n",
    "    rectangle.beginFill(0xFF0000);  // red color\n",
    "    rectangle.drawRect(10, 10, 100, 100);  // x, y, width, height\n",
    "    rectangle.endFill();\n",
    "    app.stage.addChild(rectangle);\n",
    "\n",
    "    // Draw a circle\n",
    "    let circle = new PIXI.Graphics();\n",
    "    circle.beginFill(0x0000FF);  // blue color\n",
    "    circle.drawCircle(200, 200, 50);  // x, y, radius\n",
    "    circle.endFill();\n",
    "    app.stage.addChild(circle);\n",
    "\n",
    "    // Draw a line\n",
    "    let line = new PIXI.Graphics();\n",
    "    line.lineStyle(4, 0x00FF00, 1);  // width, color, alpha\n",
    "    line.moveTo(300, 300);  // start point\n",
    "    line.lineTo(400, 400);  // end point\n",
    "    app.stage.addChild(line);\n",
    "\n",
    "</script>\n",
    "</body>\n",
    "</html>\n",
    "```\n",
    "\n",
    "\n",
    "### Python with Pillow\n",
    "\n",
    "Pillow is a fork of the Python Imaging Library (PIL) and provides a range of functions for drawing and manipulating images.\n"
   ]
  },
  {
   "cell_type": "code",
   "execution_count": null,
   "id": "a4cbc5b9",
   "metadata": {},
   "outputs": [],
   "source": [
    "from PIL import Image, ImageDraw\n",
    "\n",
    "## Create a new image with white background\n",
    "img = Image.new('RGB', (1024, 786), (255, 255, 255))\n",
    "d = ImageDraw.Draw(img)\n",
    "\n",
    "## Draw a rectangle\n",
    "d.rectangle([10, 10, 110, 110], fill=(255,0,0))\n",
    "\n",
    "## Draw a circle\n",
    "d.ellipse([190, 190, 250, 250], fill=(0,0,255))\n",
    "\n",
    "## Draw a line\n",
    "d.line([300, 300, 400, 400], fill=(0,255,0), width=4)\n",
    "\n",
    "## Save the image\n",
    "img.save('output.png')\n",
    "img.show()\n"
   ]
  },
  {
   "cell_type": "markdown",
   "id": "1b147b7d",
   "metadata": {},
   "source": [
    "In the JavaScript example, a PIXI application is created, and graphical primitives are drawn using the PIXI.Graphics class. In the Python example, a new image is created using Pillow, and graphical primitives are drawn using the ImageDraw class. Both libraries provide intuitive interfaces for drawing and manipulating graphical primitives, but their syntax and usage differ significantly due to the differing nature of the languages and environments they operate in.\n"
   ]
  }
 ],
 "metadata": {
  "kernelspec": {
   "display_name": "Python 3 (ipykernel)",
   "language": "python",
   "name": "python3"
  },
  "language_info": {
   "codemirror_mode": {
    "name": "ipython",
    "version": 3
   },
   "file_extension": ".py",
   "mimetype": "text/x-python",
   "name": "python",
   "nbconvert_exporter": "python",
   "pygments_lexer": "ipython3",
   "version": "3.9.13"
  }
 },
 "nbformat": 4,
 "nbformat_minor": 5
}
