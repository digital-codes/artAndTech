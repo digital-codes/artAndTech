{
 "cells": [
  {
   "cell_type": "markdown",
   "id": "4521e1b4",
   "metadata": {},
   "source": [
    "## Text Graphics\n",
    "We can display text in a graphical context to. See the examples below, taken from the matplotlib documentation\n",
    "at [https://matplotlib.org/3.1.0/gallery/pyplots/text_commands.html#sphx-glr-gallery-pyplots-text-commands-py](https://matplotlib.org/3.1.0/gallery/pyplots/text_commands.html#sphx-glr-gallery-pyplots-text-commands-py)\n"
   ]
  },
  {
   "cell_type": "code",
   "execution_count": null,
   "id": "d46e9b71",
   "metadata": {},
   "outputs": [],
   "source": [
    "# First step is to load all required modules\n",
    "%matplotlib inline\n",
    "import matplotlib.pyplot as plt\n",
    "import numpy as np\n",
    "import os\n",
    "\n",
    "import feedparser\n",
    "import html2text\n"
   ]
  },
  {
   "cell_type": "code",
   "execution_count": null,
   "id": "a9ad9366",
   "metadata": {},
   "outputs": [],
   "source": [
    "fig = plt.figure(figsize=(8,5),dpi=150)\n",
    "fig.suptitle('bold figure suptitle', fontsize=14, fontweight='bold')\n",
    "\n",
    "ax = fig.add_subplot(111)\n",
    "fig.subplots_adjust(top=0.85)\n",
    "ax.set_title('axes title')\n",
    "\n",
    "ax.set_xlabel('xlabel')\n",
    "ax.set_ylabel('ylabel')\n",
    "\n",
    "\n",
    "# we draw an image into the figure first\n",
    "img = np.ndarray((10,8),dtype=np.uint8)\n",
    "img.fill(90)\n",
    "ax.imshow(img,cmap=\"Greys\",vmin=0,vmax=255)\n",
    "\n",
    "# then we apply some text operations\n",
    "ax.text(3, 8, 'boxed italics text in data coords', style='italic',\n",
    "        bbox={'facecolor':'red', 'alpha':0.5, 'pad':10})\n",
    "\n",
    "ax.text(2, 6, r'an equation: $E=mc^2$', fontsize=15)\n",
    "\n",
    "ax.text(3, 2, 'unicode: Institut f\\374r Festk\\366rperphysik')\n",
    "\n",
    "ax.text(0.95, 0.01, 'colored text in axes coords',\n",
    "        verticalalignment='bottom', horizontalalignment='right',\n",
    "        transform=ax.transAxes,\n",
    "        color='green', fontsize=15)\n",
    "\n",
    "\n",
    "ax.plot([2], [1], 'o')\n",
    "ax.annotate('annotate', xy=(2, 1), xytext=(3, 4),\n",
    "            arrowprops=dict(facecolor='black', shrink=0.05))\n",
    "\n",
    "\n",
    "ax.axis([0, 10, 0, 10])\n",
    "\n",
    "# In Jupyter, the figure will be shown when this cell completes.\n",
    "# This also destroys the plot.\n",
    "# Either we save the figure right now or we make a copy to save it later.  \n",
    "saveFigure = plt.gcf()\n"
   ]
  },
  {
   "cell_type": "markdown",
   "id": "d268c33c",
   "metadata": {},
   "source": [
    "## Saving the figure\n"
   ]
  },
  {
   "cell_type": "code",
   "execution_count": null,
   "id": "0ba94778",
   "metadata": {},
   "outputs": [],
   "source": [
    "# we save and load the image in the same fashion as before\n",
    "# but we use \"png\" format which gives a better quality for the\n",
    "# next chapter\n",
    "TARGET_DIR = \"data\"\n",
    "# if the directory doesn't exist, we create it\n",
    "if not TARGET_DIR in os.listdir():\n",
    "    os.mkdir(TARGET_DIR)\n",
    "    \n",
    "file = \"textImage1.png\"\n",
    "saveFigure.savefig(os.path.sep.join([TARGET_DIR,file]))\n"
   ]
  },
  {
   "cell_type": "markdown",
   "id": "a2713bc9",
   "metadata": {},
   "source": [
    "## Text from the web\n",
    "We can write our own texts or upload files. But we can also read *feeds* from a variety of internet source, such as newsfeeds from *tagesschau.de*. \n",
    "\n",
    "There are many feeds and they all have different structure, so you will need adapt your handle. In this example, this is done by checking if the feed has certain attributes, like title, published data etc. The content (here the summary element) typically is formated as *HTML*, so we use the *html2text* parser to extract plain text.\n",
    "\n"
   ]
  },
  {
   "cell_type": "code",
   "execution_count": null,
   "id": "81c70ade",
   "metadata": {},
   "outputs": [],
   "source": [
    "# html to text parser\n",
    "hp = html2text.HTML2Text()\n",
    "hp.ignore_images = True\n",
    "hp.ignore_emphasis = True\n",
    "hp.ignore_links = True\n",
    "\n",
    "newsfeed = \"http://www.tagesschau.de/xml/rss2\"\n",
    "\n",
    "#################\n",
    "feed = feedparser.parse( newsfeed )\n",
    "\n",
    "\n",
    "print(\"---------- Tagesschau News -------------\\n\")\n",
    "for i,e in enumerate(feed.entries):\n",
    "    if hasattr(e,\"summary\"):\n",
    "        print(e.published,e.title)\n",
    "        print(hp.handle(e.summary))\n",
    "            \n",
    "    print(\"\\n\\n\")\n",
    "    # stop after some ...\n",
    "    if i > 4:\n",
    "        break"
   ]
  },
  {
   "cell_type": "markdown",
   "id": "94e8b28e",
   "metadata": {},
   "source": [
    "## Summary\n",
    "We have seen how to add text to graphics which is not only useful to annotate diagrams but also to combine text and graphical elements in general. \n",
    "\n",
    "Then we use the *feedparser* module to extract information from public newsfeeds which can be used for text analysis."
   ]
  }
 ],
 "metadata": {
  "kernelspec": {
   "display_name": "Python 3 (ipykernel)",
   "language": "python",
   "name": "python3"
  },
  "language_info": {
   "codemirror_mode": {
    "name": "ipython",
    "version": 3
   },
   "file_extension": ".py",
   "mimetype": "text/x-python",
   "name": "python",
   "nbconvert_exporter": "python",
   "pygments_lexer": "ipython3",
   "version": "3.10.6"
  }
 },
 "nbformat": 4,
 "nbformat_minor": 5
}
