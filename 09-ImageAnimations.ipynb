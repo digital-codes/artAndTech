{
 "cells": [
  {
   "cell_type": "markdown",
   "id": "7ce531b2",
   "metadata": {},
   "source": [
    "## Image Animations\n",
    "When we modify the content of an image at a sufficient rate, we cannot track the individual scenes but instead get the impression of continuous *motion*. So the primarey differency between still image and movie is that the movie has many images in a given time while the still image has only one. \n",
    "\n",
    "The number of images per second is called image frequency, or very often *frame-rate*, and a *frame* describes the individual items we show (or process) and can be used in other contextes as well.\n",
    "\n",
    "Physiologically the frame-rate needs to be between 20 to 25 Hz (images per second) to create the motion impression. Technically we aim for values like 25, 30, 50 or 60 Hz which corresponds to the electrical grid frequencies in non-US and US countries (50 or 60 Hz resp.)\n",
    "\n",
    "Note there is also a movie style called *stop-motion* which uses a frame-rate so low, that we can still see images. This can create interesting effects too. \n",
    "\n",
    "To create a (very simple) movie we have to update our image source frequently enough and merge the images into a video file format. \n"
   ]
  },
  {
   "cell_type": "code",
   "execution_count": null,
   "id": "3a4910a5",
   "metadata": {},
   "outputs": [],
   "source": [
    "# First step is to load all required modules\n",
    "import numpy as np\n",
    "# this time we use the \"notebook\" style to import matplotlib\n",
    "# as we need some interactive features\n",
    "#%matplotlib inline\n",
    "%matplotlib notebook\n",
    "import matplotlib.pyplot as plt\n",
    "import matplotlib.animation as animation\n",
    "\n",
    "# we use some skimage features again\n",
    "# see http://www.scipy-lectures.org/advanced/image_processing/index.html#basic-image\n",
    "from skimage import color, filters, data, transform\n",
    "from skimage.transform import rescale, resize, rotate, downscale_local_mean\n",
    "\n",
    "import os\n",
    "\n",
    "# numba is just for the last animation\n",
    "from numba import jit\n",
    "import numpy as np"
   ]
  },
  {
   "cell_type": "code",
   "execution_count": null,
   "id": "39c42601",
   "metadata": {},
   "outputs": [],
   "source": [
    "# We use on of the default images that comme with skimage and adjust it to our needs\n",
    "# retina is a large image so re resize it\n",
    "im0 = data.retina()\n",
    "im = transform.resize(im0,(200,200))\n",
    "\n",
    "plt.imshow(im)\n",
    "#plt.show()"
   ]
  },
  {
   "cell_type": "markdown",
   "id": "b78997e3",
   "metadata": {},
   "source": [
    "## Changing image content\n",
    "A simple way to modify the image content is a rotation of the data. We rotate by a number of pixels which is derived from the function parameter *f*. f will later be set by the animation process and is the frame index. Rotating the image is done by the numpy function *roll()*.\n",
    "\n",
    "Note, we don't modify the image *im*, we just rotate it by an offset when we update the canvas.\n",
    "\n",
    "To actually change the image content we have to use the *set_data* function of the image object, which basically represents the drawing area (or canvas).\n",
    "\n",
    "We can also update the title and other features of the figure.\n"
   ]
  },
  {
   "cell_type": "code",
   "execution_count": null,
   "id": "2c6f5a5b",
   "metadata": {},
   "outputs": [],
   "source": [
    "# rotate function, offset is the frame number\n",
    "def rot(f):\n",
    "    # we need title and img as global variables\n",
    "    # as we have to modify them\n",
    "    # We could ommit this line if all variables were defined before this function\n",
    "    # don't rely on that ..\n",
    "    global img, title\n",
    "    title.set_text(f\"Frame {f:3d}\")\n",
    "    img.set_data(np.roll(im,f,1))\n",
    "    return img\n"
   ]
  },
  {
   "cell_type": "markdown",
   "id": "914422fb",
   "metadata": {},
   "source": [
    "## Animation setup\n",
    "We need to create a figure with a subplot as in some previous examples. We show the image once, with the *animated*Ture* option (not required in notebook mode).\n",
    "\n",
    "Then we create an animation object which uses the the figure and the function to display a number of frames after a call to the update function. The interval is given in ms.\n",
    "\n",
    "You can stop the animation with the button in the top right corner of the video frame.\n",
    "\n",
    "**Make sure you're running with %matplotlib notebook**\n"
   ]
  },
  {
   "cell_type": "code",
   "execution_count": null,
   "id": "5cf45267",
   "metadata": {},
   "outputs": [],
   "source": [
    "fig = plt.figure(\"Simple Animation\")\n",
    "ax = fig.add_subplot()\n",
    "title = ax.set_title(\"Result\")\n",
    "ax.axis('off')\n",
    "img = plt.imshow(im, animated=True) \n",
    "\n",
    "ani = animation.FuncAnimation(fig, rot, interval=200, frames=im.shape[0] + 20, blit=True)"
   ]
  },
  {
   "cell_type": "markdown",
   "id": "580d666a",
   "metadata": {},
   "source": [
    "## Video file\n",
    "We can save the animation to disk using the *save* method of the animation.\n"
   ]
  },
  {
   "cell_type": "code",
   "execution_count": null,
   "id": "2748c8c1",
   "metadata": {},
   "outputs": [],
   "source": [
    "# we save and load the image in the same fashion as before\n",
    "# but we use \"png\" format which gives a better quality for the\n",
    "# next chapter\n",
    "TARGET_DIR = \"data\"\n",
    "# if the directory doesn't exist, we create it\n",
    "if not TARGET_DIR in os.listdir():\n",
    "    os.mkdir(TARGET_DIR)\n",
    "    \n",
    "file = \"video1.mp4\"\n",
    "videoFile = os.path.sep.join([TARGET_DIR,file])\n",
    "\n",
    "# this might fail with a message like \n",
    "#    MovieWriter ffmpeg unavailable; using Pillow instead.\n",
    "# If that happens on your local Jupyter, try to install FFMPEG\n",
    "# On binder or another remote Jupyter change the extenstion from .mp4 to .gif\n",
    "# this will at least generat an animation\n",
    "\n",
    "ani.save(videoFile)"
   ]
  },
  {
   "cell_type": "markdown",
   "id": "48271344",
   "metadata": {},
   "source": [
    "## Complex Animation\n",
    "Finally we create an animation where a completely new image is generated for every frame. For this, we use one of the mathematical operations well-known for nice visualization features - the *Julia set*, see [https://en.wikipedia.org/wiki/Julia_set](https://en.wikipedia.org/wiki/Julia_set)\n",
    "\n",
    "Without going to deep into the math, the Julia set is a 2D region in the complex space and every X/Y location is iteratively analyzed for a certain property. This maps perfectly onto a 2D image where every pixel gets a color depending on the outcome of the iterative computation. \n",
    "\n",
    "This animation program is essentially the same as the ones above. However, the iterative algorithm is very timeconsuming and slow with base Python. To improve this, we use the *numba* library, which provides a *just in time compiler* (JIT) which enables faster and parallel code execution. Just comment the line \n",
    "\n",
    "> @jit\n",
    "\n",
    "in front of the *julia_numba* function definition and you will see the difference.\n"
   ]
  },
  {
   "cell_type": "code",
   "execution_count": null,
   "id": "7d56cf9a",
   "metadata": {},
   "outputs": [],
   "source": [
    "# We need to define the size of the julia set first. \n",
    "# Actual dimensions will be N*2N\n",
    "N = 512\n",
    "# Some other constants to control the image\n",
    "DPI = 96\n",
    "WIDTH = 1+ N//DPI\n",
    "HEIGHT = 1+ N//DPI\n",
    "# initialize real and imaginary parts for the julia function\n",
    "CREAL = -0.835\n",
    "CIMAG = - 0.2321\n",
    "\n",
    "\n",
    "# then we create a color map for the iteration results\n",
    "# We use a predefined rainbow map but you could create your own custom map too\n",
    "cmap = np.empty((N,3),dtype=np.uint8)\n",
    "for i in range(256):\n",
    "    cmap[i] = np.dot(plt.cm.rainbow(i)[0:3],255)\n",
    "\n",
    "###################################\n",
    "# this is the actual julia set computation function\n",
    "# Note, the @jit line enables the numba speed-up\n",
    "@jit\n",
    "def julia_numba(N,cr,ci):\n",
    "    T = np.empty((N, 2*N), dtype=np.uint8)\n",
    "    # for some reason the code does not work if we use just the\n",
    "    # second array (TC) and a simple point as accumulator\n",
    "    TC = np.empty((N, 2*N,3), dtype=np.uint8)\n",
    "        \n",
    "    h = 2.0/N\n",
    "    for J in range(N):\n",
    "        for I in range(2*N):\n",
    "            zimag = -1.0 + J*h\n",
    "            zreal = -2.0 + I*h\n",
    "            T[J,I] = 0\n",
    "            zreal2 = zreal*zreal\n",
    "            zimag2 = zimag*zimag\n",
    "            while (zimag2 + zreal2 <= 4) and (T[J,I] < 255):\n",
    "                zimag = 2* zreal*zimag + ci\n",
    "                zreal = zreal2 - zimag2 + cr\n",
    "                zreal2 = zreal*zreal\n",
    "                zimag2 = zimag*zimag \n",
    "                T[J,I] += 1\n",
    "            # update tc\n",
    "            TC[J,I] = cmap[T[J,I]]\n",
    "                \n",
    "    return TC\n",
    "\n",
    "\n",
    "#########################\n",
    "# main part\n",
    "# we create the figure\n",
    "fig, ax = plt.subplots(figsize=(WIDTH, HEIGHT),dpi=DPI)\n",
    "title = ax.set_title(\"Julia Set\")\n",
    "ax.axis('off')\n",
    "# and initialize the canvas with an empty array of the same size N*2N\n",
    "# we have to declare this before the animation function\n",
    "img = plt.imshow(np.empty((N, 2*N), dtype=np.uint8), animated=True) \n",
    "\n",
    "#########################\n",
    "# animation function, like in the previous examples\n",
    "# creates a new image based upon the parameter t\n",
    "def nextJulia(t):\n",
    "    global img\n",
    "    print(t)\n",
    "    z = julia_numba(N, CREAL + t/100 , CIMAG - t/100)\n",
    "    img.set_data(z)\n",
    "    return z \n",
    "\n",
    "\n",
    "# this setups and calls the animation (without jupyter, you will need to call the animation)\n",
    "ani = animation.FuncAnimation(fig, nextJulia, interval=100, frames=100, blit=True)\n"
   ]
  },
  {
   "cell_type": "markdown",
   "id": "84e7c80e",
   "metadata": {},
   "source": [
    "## Summary\n",
    "We have seen how to create an animated image sequence with matplotlib and how to save it to a movie file. \n",
    "The video quality is not impressive, but there are more features available for the movie writer in matplotlib as well as other libraries like *moviepy* which allow more control over the process.\n",
    "\n",
    "We also used a more complex animation function to create an entirely new image per frame.\n"
   ]
  }
 ],
 "metadata": {
  "kernelspec": {
   "display_name": "Python 3",
   "language": "python",
   "name": "python3"
  },
  "language_info": {
   "codemirror_mode": {
    "name": "ipython",
    "version": 3
   },
   "file_extension": ".py",
   "mimetype": "text/x-python",
   "name": "python",
   "nbconvert_exporter": "python",
   "pygments_lexer": "ipython3",
   "version": "3.7.10"
  }
 },
 "nbformat": 4,
 "nbformat_minor": 5
}
