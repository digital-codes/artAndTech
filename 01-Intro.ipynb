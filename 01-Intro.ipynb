{
 "cells": [
  {
   "cell_type": "markdown",
   "id": "74420863",
   "metadata": {},
   "source": [
    "# Kunst und Technik\n",
    "Sommersemester 2021\n",
    "\n",
    "Die Notebooks in dieser Reihe können auf [Binder](https://mybinder.org/v2/gh/digital-codes/artAndTech.git/st21) direkt online benutzt werden.\n"
   ]
  },
  {
   "cell_type": "markdown",
   "id": "8bf5575d",
   "metadata": {},
   "source": [
    "**Der Computer als Kunstmedium**\n",
    "\n",
    "Seit Mitte der 50-er Jahre des letzten Jahrhunderts werden Computer von Künstlern \n",
    "eingesetzt. Die Einsatzmöglichkeiten haben sich dabei außerordentlich erweitert. \n",
    "Dies ist nicht nur der ständig zunehmenden Rechenleistung der Maschinen geschuldet, sondern\n",
    "in hohem Maße auch den immer perfekteren Schnittstellen, die für unsere primären Sinnesorgane \n",
    "Auge und Ohr digitale Daten in naturgetreuer Qualität wiedergeben können.\n",
    "\n",
    "Anhand einiger Werke aus der Ausstellung [*Writing the history of the future* im ZKM](https://zkm.de/de/ausstellung/2019/02/writing-the-history-of-the-future) werden verschiedene technische Grundlagen\n",
    "untersucht und Anregung zu eigenen Entwicklungen gegeben. \n",
    "\n",
    "Beginnen wir mit einem Blick ins ZKM ![Blick ins ZKM](https://zkm.de/media/styles/r17_1280_dynamic/public/bild/_p3a4454.jpg?itok=tJjX56Sn)"
   ]
  },
  {
   "cell_type": "markdown",
   "id": "bb0a0d9f",
   "metadata": {},
   "source": [
    "**Werke / Schwerpunkte**\n",
    "\n",
    "   * Technik\n",
    "   * Text\n",
    "   * Visuell\n",
    "   * Algorithmen\n"
   ]
  },
  {
   "cell_type": "code",
   "execution_count": null,
   "id": "5a1816a5",
   "metadata": {},
   "outputs": [],
   "source": []
  }
 ],
 "metadata": {
  "kernelspec": {
   "display_name": "Python 3",
   "language": "python",
   "name": "python3"
  },
  "language_info": {
   "codemirror_mode": {
    "name": "ipython",
    "version": 3
   },
   "file_extension": ".py",
   "mimetype": "text/x-python",
   "name": "python",
   "nbconvert_exporter": "python",
   "pygments_lexer": "ipython3",
   "version": "3.7.10"
  }
 },
 "nbformat": 4,
 "nbformat_minor": 5
}
