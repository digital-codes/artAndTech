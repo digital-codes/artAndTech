{
 "cells": [
  {
   "cell_type": "code",
   "execution_count": null,
   "id": "1e8aa5ba",
   "metadata": {},
   "outputs": [],
   "source": [
    "# 3D visualisations \n",
    "# https://k3d-jupyter.org/index.html\n",
    "import k3d\n",
    "import numpy as np\n",
    "from k3d import matplotlib_color_maps"
   ]
  },
  {
   "cell_type": "code",
   "execution_count": null,
   "id": "dc59d25f",
   "metadata": {},
   "outputs": [],
   "source": [
    "# minimal line example\n",
    "pl = k3d.line([[0, 0, 0],\n",
    "                 [1, 1, 1]])\n",
    "plot = k3d.plot()\n",
    "plot += pl\n",
    "plot.display()\n"
   ]
  },
  {
   "cell_type": "code",
   "execution_count": null,
   "id": "c20d8685",
   "metadata": {},
   "outputs": [],
   "source": [
    "# advanced line example\n",
    "t = np.linspace(-10, 10, 100,dtype=np.float32)\n",
    "x = np.cos(t)\n",
    "y = np.sin(t)\n",
    "z = t / 5\n",
    "\n",
    "vertices = np.vstack([x,y,z]).T\n",
    "\n",
    "plt_line = k3d.line(vertices, width=0.1, color=0xff99cc)\n",
    "\n",
    "plot = k3d.plot()\n",
    "plot += plt_line\n",
    "plot.display()"
   ]
  },
  {
   "cell_type": "code",
   "execution_count": null,
   "id": "c30b69ea",
   "metadata": {},
   "outputs": [],
   "source": [
    "# more advanced example\n",
    "\n",
    "data = np.load('media/streamlines_data.npz')\n",
    "plot = k3d.plot()\n",
    "plot += k3d.line(data['lines'], width=0.00007, color_range=[0, 0.5], shader='mesh',\n",
    "                 attribute=data['v'], color_map=matplotlib_color_maps.Inferno)\n",
    "\n",
    "plot += k3d.mesh(data['vertices'], data['indices'],\n",
    "                 opacity=0.25, wireframe=True, color=0x0002)\n",
    "plot.display()"
   ]
  },
  {
   "cell_type": "code",
   "execution_count": null,
   "id": "769842d4",
   "metadata": {
    "scrolled": true
   },
   "outputs": [],
   "source": [
    "# 3D objects\n",
    "from k3d import platonic\n",
    "\n",
    "plot = k3d.plot()\n",
    "cube_1 = platonic.Cube()\n",
    "cube_2 = platonic.Cube(origin=[5, -2, 3], size=0.5)\n",
    "\n",
    "plot += cube_1.mesh\n",
    "plot += cube_2.mesh\n",
    "\n",
    "plot.display()"
   ]
  },
  {
   "cell_type": "code",
   "execution_count": null,
   "id": "eba0ece9",
   "metadata": {},
   "outputs": [],
   "source": [
    "import time\n",
    "\n",
    "np.random.seed(2022)\n",
    "\n",
    "x = np.random.randn(100,3).astype(np.float32)\n",
    "\n",
    "plt_points = k3d.points(x,\n",
    "                        color=0x528881,\n",
    "                        point_size=0.2)\n",
    "\n",
    "plot = k3d.plot()\n",
    "plot += plt_points\n",
    "plot.display()\n",
    "\n",
    "for t in range(20):\n",
    "    plt_points.positions = x - t/10*x/np.linalg.norm(x,axis=-1)[:,np.newaxis]\n",
    "    time.sleep(0.5)"
   ]
  }
 ],
 "metadata": {
  "kernelspec": {
   "display_name": "Python 3 (ipykernel)",
   "language": "python",
   "name": "python3"
  },
  "language_info": {
   "codemirror_mode": {
    "name": "ipython",
    "version": 3
   },
   "file_extension": ".py",
   "mimetype": "text/x-python",
   "name": "python",
   "nbconvert_exporter": "python",
   "pygments_lexer": "ipython3",
   "version": "3.10.7"
  }
 },
 "nbformat": 4,
 "nbformat_minor": 5
}
