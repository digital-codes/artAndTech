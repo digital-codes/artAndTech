{
 "cells": [
  {
   "cell_type": "markdown",
   "id": "7ce531b2",
   "metadata": {},
   "source": [
    "## Color Graphics\n",
    "Let's start with an empty array like before, but with three color channels from the beginning.\n",
    "We use np.zeros to create a zero initialzed array and we set the data type to be uint8, which is a byte.\n",
    "\n",
    "The color channels are RGB, so plain red is (255,0,0), plain green is (0,255,0) and plain blue is (0,0,255)\n",
    "\n",
    "Gray values result from the same value in all channels. We use an intermediate value (127).\n",
    "\n",
    "Once the image is created, we can show it and save it without a color map, as we are now using the full color specification. The display of the loaded image is identical to the constructed one (this is often not the case when using grayscale images with a color map) \n"
   ]
  },
  {
   "cell_type": "code",
   "execution_count": null,
   "id": "60af77f2",
   "metadata": {},
   "outputs": [],
   "source": [
    "# First step is to load all required modules\n",
    "import numpy as np\n",
    "import matplotlib.pyplot as plt\n",
    "import matplotlib.colors as mcl\n",
    "import random\n",
    "import os"
   ]
  },
  {
   "cell_type": "code",
   "execution_count": null,
   "id": "b42799c2",
   "metadata": {},
   "outputs": [],
   "source": [
    "ROWS = 40\n",
    "COLS = 60\n",
    "\n",
    "a = np.zeros((ROWS,COLS,3),dtype=\"uint8\")\n",
    "print(\"Shape is \",a.shape)\n",
    "RED = (255,0,0)\n",
    "GREEN = (0,255,0)\n",
    "BLUE = (0,0,255)\n",
    "GRAY = (128,128,128)\n",
    "\n",
    "\n",
    "# first 10 rows red\n",
    "a[:10] = RED\n",
    "# next 10 rows green\n",
    "a[10:20] = GREEN\n",
    "# next 10 rows green\n",
    "a[20:30] = BLUE\n",
    "# next 10 rows gray\n",
    "a[30:] = GRAY\n",
    "\n",
    "# show image\n",
    "print(\"New image\")\n",
    "plt.imshow(a)\n",
    "plt.axis(\"off\")\n",
    "\n",
    "# we save and load the image in the same fashion as before\n",
    "# but we use \"png\" format which gives a better quality for the\n",
    "# next chapter\n",
    "TARGET_DIR = \"data\"\n",
    "# if the directory doesn't exist, we create it\n",
    "if not TARGET_DIR in os.listdir():\n",
    "    os.mkdir(TARGET_DIR)\n",
    "    \n",
    "file = \"color1.png\"\n",
    "plt.imsave(os.path.sep.join([TARGET_DIR,file]),a)\n",
    "plt.show()\n",
    "\n",
    "# read the image back from disk\n",
    "b = plt.imread(os.path.sep.join([TARGET_DIR,file]))\n",
    "print(\"Saved image\")\n",
    "plt.imshow(b)\n",
    "plt.axis(\"off\")\n",
    "plt.show()\n"
   ]
  },
  {
   "cell_type": "markdown",
   "id": "cb675d18",
   "metadata": {},
   "source": [
    "## Transparency\n",
    "In addition to plain RGB we can add transparency to an image. This requires a fourth value, the *alpha* channel. The resulting format is called *RGBA*. An alpha value of 0 makes the pixel completely transparent, while 1 (or 255, depending on value range) is fully opaque.\n",
    "\n",
    "There are several libraries which allow to convert RGB to RGBA, for example PILLOW. Example code is like this:\n",
    "\n",
    "```\n",
    "import numpy as np\n",
    "from PIL import Image\n",
    "# load RGB image from jpg file\n",
    "i = Image.open(\"example.jpg\")\n",
    "# i.show()\n",
    "# add alpha channel\n",
    "i.putalpha(1)  # here, we can use only 0 or 1. Can be modified later\n",
    "# convert to numpy array for further processing\n",
    "b = np.array(i)\n",
    "print(b.shape)\n",
    "\n",
    "```\n",
    "\n",
    "However, we don't need to do this here, as we have saved *a* to *png* format which we loaded into *b*. And *b* is already in *RGBA* format which we can see from the shape which has 4 color channels. **Note: RGBA values here are between 0 and 1, not 0 and 255**\n",
    "\n",
    "So, we can for example modify the alpha channel depending on the color and save *c* as well. Try to load the different image and explore the differences."
   ]
  },
  {
   "cell_type": "code",
   "execution_count": null,
   "id": "c32fdb36",
   "metadata": {},
   "outputs": [],
   "source": [
    "# read rgba image is in \"b\"\n",
    "# copy to ba. Note: RGBA value range is now 0..1\n",
    "ba = b.copy()\n",
    "print(\"Shape of c: \", ba.shape)\n",
    "for r in range(ba.shape[0]):\n",
    "    for c in range(ba.shape[1]):\n",
    "        if ba[r,c,0] > 100/255:\n",
    "            ba[r,c,3] = .2\n",
    "        elif ba[r,c,1] > 100/255:\n",
    "            ba[r,c,3] = .5\n",
    "        elif ba[r,c,2] > 100/255:\n",
    "            ba[r,c,3] = .7\n",
    "            \n",
    "plt.imshow(ba)\n",
    "plt.axis(\"off\")\n",
    "plt.show()\n",
    "file = \"color1-rgba.png\"\n",
    "plt.imsave(os.path.sep.join([TARGET_DIR,file]),ba)\n"
   ]
  },
  {
   "cell_type": "markdown",
   "id": "787fb79e",
   "metadata": {},
   "source": [
    "## Color Spaces\n",
    "RGB colors are straightforward, as red, green and blue are the colors which are actually used by all modern display interfaces. However it is difficult to define *nice* gradients in color or intensity by mathematical operations. \n",
    "\n",
    "This is much easier when we use a different color space like *HSV*\n",
    "\n",
    " * H: HUE, the color value\n",
    " * S: Saturation\n",
    " * V: Value\n",
    " \n",
    " There are mathematical conversion to compute RGB from HSV and vice versa. We will just use the matplotlib color function to derive the RGB values.\n",
    " \n",
    " See [https://de.wikipedia.org/wiki/HSV-Farbraum](https://de.wikipedia.org/wiki/HSV-Farbraum)\n",
    " \n",
    " For demonstration we create a gradient in H and S, with a fixed V. The colors becomes stronger from left to right and we get a nice rainbow-like color sequence from top to bottom.\n",
    " \n",
    " Matplotlib wants HSV values as floats in the range ([0,1], so we have to convert the result back to bytes, as we have defined the array with datatype uint8. (We could use floats directly, but then we need to create the array accordingly)"
   ]
  },
  {
   "cell_type": "code",
   "execution_count": null,
   "id": "ee5ef1f2",
   "metadata": {},
   "outputs": [],
   "source": [
    "# make gradients for H and S matching the image dimensions\n",
    "for r in range(ROWS):\n",
    "    for c in range(COLS):\n",
    "        h = r * 1/ROWS\n",
    "        s = c * 1/COLS\n",
    "        v = .8\n",
    "        a[r,c] = (mcl.hsv_to_rgb((h,s,v))*256).astype(\"uint8\")\n",
    "\n",
    "plt.imshow(a)\n",
    "_ = plt.axis(\"off\")"
   ]
  },
  {
   "cell_type": "markdown",
   "id": "0fc55cf5",
   "metadata": {},
   "source": [
    "## Summary\n",
    "Color graphics works the same way, just the pixel values are now with three color channels R,G,B. We can add transparency with an *alpha* channel too.\n",
    "\n",
    "HSV color space allows to apply simple math on color values."
   ]
  }
 ],
 "metadata": {
  "kernelspec": {
   "display_name": "Python 3 (ipykernel)",
   "language": "python",
   "name": "python3"
  },
  "language_info": {
   "codemirror_mode": {
    "name": "ipython",
    "version": 3
   },
   "file_extension": ".py",
   "mimetype": "text/x-python",
   "name": "python",
   "nbconvert_exporter": "python",
   "pygments_lexer": "ipython3",
   "version": "3.10.6"
  }
 },
 "nbformat": 4,
 "nbformat_minor": 5
}
