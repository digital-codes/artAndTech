{
 "cells": [
  {
   "cell_type": "markdown",
   "id": "1b3e2840",
   "metadata": {},
   "source": [
    "## Interaction\n",
    "With a very simple categorization scheme we can distinguish static, variable and interactive elements. Static and variable elements present results which do (like audio or video) or don't change (like single images) over time.\n",
    "\n",
    "Interactive elements are able to present different results depending on some external conditions.\n",
    "\n",
    "So in addition to functionality which generates some **output** (e.g. an image to display) they need functionality to accept some **input** as well. Inputs are typically provided via some form of **input device** (like keyboard, mouse) or **sensor** (like microphone, camera, gyroscope, temperature etc).\n",
    "\n",
    "Interaction also requires the elements to be continously operational (until some exit condition occurs).\n",
    "\n",
    "Input capability and continous operation are typically implemented via a so called **event loop**.\n",
    "\n",
    "    * checks for events (the inputs)\n",
    "    * compute and present new output\n",
    "    * start over\n",
    "    \n",
    "Event loops are provides by programming libraries for interactive user interfaces (Qt, GTK, ...) or game engines. Within the context of Jupyter notebooks we use the [jupylet](https://jupylet.readthedocs.io/en/latest/index.html) library\n",
    "\n",
    "### Game of life example\n",
    "Wikipedia describes [game of life](https://en.wikipedia.org/wiki/Conway%27s_Game_of_Life) as \n",
    "\n",
    "> The Game of Life, also known simply as Life, is a cellular automaton devised by the British mathematician John Horton Conway in 1970. It is a zero-player game, meaning that its evolution is determined by its initial state, requiring no further input. One interacts with the Game of Life by creating an initial configuration and observing how it evolves. It is Turing complete and can simulate a universal constructor or any other Turing machine. \n",
    "\n",
    "So far, we just have variable outputs but no interactivity. To add this, we add an input method so we can set individual cells during the live process via mouse click."
   ]
  },
  {
   "cell_type": "code",
   "execution_count": null,
   "id": "6ca2b617",
   "metadata": {},
   "outputs": [],
   "source": [
    "import logging\n",
    "import sys\n",
    "import os\n",
    "\n",
    "import numpy as np"
   ]
  },
  {
   "cell_type": "code",
   "execution_count": null,
   "id": "35986ec5",
   "metadata": {},
   "outputs": [],
   "source": [
    "# https://jupylet.readthedocs.io/en/latest/index.html\n",
    "import jupylet.color\n",
    "\n",
    "from jupylet.app import App\n",
    "from jupylet.state import State\n",
    "from jupylet.label import Label\n",
    "from jupylet.sprite import Sprite\n",
    "\n",
    "#from jupylet.audio.sample import Sample"
   ]
  },
  {
   "cell_type": "markdown",
   "id": "9e816d67",
   "metadata": {},
   "source": [
    "Define some constants like grid size first"
   ]
  },
  {
   "cell_type": "code",
   "execution_count": null,
   "id": "f9657629",
   "metadata": {},
   "outputs": [],
   "source": [
    "# game of life constants\n",
    "gs = 16 # cols by rows\n",
    "gw = 32 # size \n",
    "scr = [gs*gw,gs*gw] # screen\n",
    "\n",
    "# matrix of size gs x gs\n",
    "# create the initial matrix\n",
    "ga = np.array([[np.random.randint(0,2) for c in range(gs)] for r in range(gs)])\n",
    "#ga = np.array([[1 for c in range(gs)] for r in range(gs)])\n",
    "\n"
   ]
  },
  {
   "cell_type": "markdown",
   "id": "32b5dabc",
   "metadata": {},
   "source": [
    "Rule function, executed every time step"
   ]
  },
  {
   "cell_type": "code",
   "execution_count": null,
   "id": "b969fe59",
   "metadata": {},
   "outputs": [],
   "source": [
    "# function definition: this is the core part\n",
    "def step(a,d):\n",
    "    \"\"\"Compute the result array\"\"\"\n",
    "    # create a new empty array\n",
    "    b = np.empty((d,d))\n",
    "    # set list of neighbour indices: up,down,left,right\n",
    "    nd = ((-1,0),(1,0),(0,-1),(0,1))\n",
    "    # loop over elements\n",
    "    for i in range(d):\n",
    "        for j in range(d):\n",
    "            sum = 0\n",
    "            # loop over neighbours: this is the very core\n",
    "            for dd in nd:\n",
    "                    si = i + dd[0]\n",
    "                    sj = j + dd[1]\n",
    "                    # ignore boundary pixels\n",
    "                    # if not (si < 0 or si >=d or sj < 0 or sj >= d):\n",
    "                    #     sum += a[si,sj]\n",
    "                    # alternatively, we can wrap at the boundaries\n",
    "                    si = d-1 if si < 0 else 0 if si == d else si\n",
    "                    sj = d-1 if sj < 0 else 0 if sj == d else sj\n",
    "                    sum += a[si,sj]\n",
    "            # !!!!!!! important !!!!!!!!!\n",
    "            # !!! evaluate sum\n",
    "            b[i,j] = 1 if sum == 2 else 0\n",
    "            # !!!!!!! important !!!!!!!!!\n",
    "    return b\n",
    "\n"
   ]
  },
  {
   "cell_type": "markdown",
   "id": "88620aac",
   "metadata": {},
   "source": [
    "Set initial state and define the app, colors and some dynamic info"
   ]
  },
  {
   "cell_type": "code",
   "execution_count": null,
   "id": "6e5db876",
   "metadata": {},
   "outputs": [],
   "source": [
    "# init state\n",
    "\n",
    "state = State(\n",
    "    iters = 0,\n",
    "    ga = ga,\n",
    "    gb = np.empty((gs,gs)),\n",
    "    left = False,\n",
    "    dead = False,\n",
    "    zombie = False,\n",
    "    mouse = [0,0],\n",
    "    mouse_set = [0,0,0]\n",
    ")\n",
    "\n",
    "\n",
    "app = App(width=scr[0] + gw, height=scr[1] + gw)#, log_level=logging.INFO)\n",
    "background = '#444444'\n",
    "foreground = '#eeeeee'\n",
    "a0 = np.ones((gw, gw)) * 255\n",
    "a2 = np.ones((app.height, app.width, 3)) * 255\n",
    "\n",
    "items = np.array([[Sprite(a0, y=r*gw+gw,x=c*gw+gw) for c in range(gs)] for r in range(gs)])\n",
    "\n",
    "field = Sprite(a2, y=app.height/2, x=app.width/2, color=background) \n",
    "\n",
    "info = Label(\n",
    "    '0', font_size=16, color=foreground, \n",
    "    x=app.width//2, y=gw/2, \n",
    "    anchor_y='center', anchor_x='left'\n",
    "    #font_path='fonts/PetMe64.ttf'\n",
    ")\n"
   ]
  },
  {
   "cell_type": "markdown",
   "id": "3a2d555f",
   "metadata": {},
   "source": [
    "The render function to show new results\n",
    "\n",
    "The two function arguments ct and dt will contain the current game time and the time since the function was last called (delta time). We can use these arguments to do interesting stuff, but you can ignore them for now.\n"
   ]
  },
  {
   "cell_type": "code",
   "execution_count": null,
   "id": "eb5e0af5",
   "metadata": {},
   "outputs": [],
   "source": [
    "@app.event\n",
    "def render(ct, dt):\n",
    "    \n",
    "    app.window.clear(color=foreground)\n",
    "    \n",
    "    field.draw()\n",
    "    info.draw()\n",
    "    for i in range(gs):\n",
    "        for ii in range(gs):\n",
    "            if state.ga[i,ii] > 0:\n",
    "                items[i,ii].draw()\n",
    "                #print(i,ii)\n",
    "    \n"
   ]
  },
  {
   "cell_type": "markdown",
   "id": "1592e4e8",
   "metadata": {
    "slideshow": {
     "slide_type": "slide"
    }
   },
   "source": [
    "In this example we don't use key input. But you may use it for other things ..."
   ]
  },
  {
   "cell_type": "code",
   "execution_count": null,
   "id": "32b6e04e",
   "metadata": {},
   "outputs": [],
   "source": [
    "@app.event\n",
    "def key_event(key, action, modifiers):\n",
    "        \n",
    "    keys = app.window.keys\n",
    "    \n",
    "    if action == keys.ACTION_PRESS:\n",
    "        \n",
    "        if key == keys.LEFT:\n",
    "            state.left = True\n",
    "\n",
    "\n",
    "    if action == keys.ACTION_RELEASE:\n",
    "\n",
    "    \n",
    "        if key == keys.LEFT:\n",
    "            state.left = False\n",
    "\n",
    "            "
   ]
  },
  {
   "cell_type": "markdown",
   "id": "55202952",
   "metadata": {},
   "source": [
    "Mouse input: create a active cell at mouse position"
   ]
  },
  {
   "cell_type": "code",
   "execution_count": null,
   "id": "13e2cd05",
   "metadata": {},
   "outputs": [],
   "source": [
    "@app.event\n",
    "def mouse_press_event(x, y, button):\n",
    "    #state.mouse_set = (x,y,button)\n",
    "    if button == 1:\n",
    "        mx = (x - gw//2) // gw \n",
    "        my = (y - gw//2) // gw\n",
    "        state.mouse_set = [1,mx,my]\n"
   ]
  },
  {
   "cell_type": "markdown",
   "id": "e8d8ff72",
   "metadata": {},
   "source": [
    "The main loop: update global time variables ct,dt with frame rate (1/30s). Check iteration counter and exit after N iterations"
   ]
  },
  {
   "cell_type": "code",
   "execution_count": null,
   "id": "f42855c5",
   "metadata": {},
   "outputs": [],
   "source": [
    "@app.run_me\n",
    "def main_loop(ct,dt):\n",
    "    state.iters = 0\n",
    "    while True: # endless loop. We will break on certain conditions\n",
    "        ct, dt = yield 1/30\n",
    "        # check iterations\n",
    "        if state.dead:\n",
    "            #print(\"Dead\")\n",
    "            app.stop()\n",
    "            break\n",
    "        elif state.iters >= 100:\n",
    "            #print(\"Still alive after \",state.iters,\" iterations\")\n",
    "            info.text = \"Finished\"\n",
    "            app.stop()\n",
    "            break\n",
    "\n"
   ]
  },
  {
   "cell_type": "markdown",
   "id": "2db7c447",
   "metadata": {},
   "source": [
    "Actual game activity, executed at lower frequency in this example (.33s). Copy state, update state, check mouse input.\n",
    "\n",
    "Also check for dead (no active cell as all) and zombies (active but static cells)"
   ]
  },
  {
   "cell_type": "code",
   "execution_count": null,
   "id": "052cd09a",
   "metadata": {},
   "outputs": [],
   "source": [
    "@app.run_me_every(1/3)\n",
    "def update(ct, dt):\n",
    "    state.gb = state.ga.copy() # save old value\n",
    "    state.ga = step(state.ga,gs).copy() # compute new values\n",
    "    # insert mouse item, if exists\n",
    "    if state.mouse_set[0] == 1:\n",
    "        state.ga[state.mouse_set[2],state.mouse_set[1]] = 1\n",
    "        state.mouse_set[0] = 0\n",
    "\n",
    "    state.iters = state.iters + 1\n",
    "    \n",
    "    # check stady state\n",
    "    if np.array_equal(state.gb,state.ga):\n",
    "        if np.sum(state.ga) > 0:\n",
    "            print(\"Zombie after \",state.iters,\" iterations\")\n",
    "            state.dead = True\n",
    "            state.zombie = True\n",
    "        else:\n",
    "            print(\"Dead after \",state.iters,\" iterations\")\n",
    "            state.dead = True\n",
    "        info.text = \"Dead, Zombie: \" + str(state.zombie)\n",
    "    else:\n",
    "        info.text = str(state.iters) # + f\" - {state.mouse_set[0]},{state.mouse_set[1]},{state.mouse_set[2]}\"\n"
   ]
  },
  {
   "cell_type": "markdown",
   "id": "82a54a1c",
   "metadata": {},
   "source": [
    "Start app"
   ]
  },
  {
   "cell_type": "code",
   "execution_count": null,
   "id": "2419e574",
   "metadata": {},
   "outputs": [],
   "source": [
    "app.run()\n"
   ]
  },
  {
   "cell_type": "code",
   "execution_count": null,
   "id": "beb38442",
   "metadata": {},
   "outputs": [],
   "source": []
  }
 ],
 "metadata": {
  "kernelspec": {
   "display_name": "Python 3 (ipykernel)",
   "language": "python",
   "name": "python3"
  },
  "language_info": {
   "codemirror_mode": {
    "name": "ipython",
    "version": 3
   },
   "file_extension": ".py",
   "mimetype": "text/x-python",
   "name": "python",
   "nbconvert_exporter": "python",
   "pygments_lexer": "ipython3",
   "version": "3.11.3"
  }
 },
 "nbformat": 4,
 "nbformat_minor": 5
}
