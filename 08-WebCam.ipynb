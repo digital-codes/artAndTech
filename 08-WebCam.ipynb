{
 "cells": [
  {
   "cell_type": "markdown",
   "id": "7ce531b2",
   "metadata": {},
   "source": [
    "## WebCam\n",
    "Accessing the webcam requires another module: *opencv*, and most probably certain functionality to be installed outside the Python environment. Depends on your system.\n",
    "\n",
    "This notebook will probably not work in an online environment. \n",
    "\n",
    "Use with plain Python or a local Jupyter.\n"
   ]
  },
  {
   "cell_type": "code",
   "execution_count": null,
   "id": "3a4910a5",
   "metadata": {},
   "outputs": [],
   "source": [
    "# First step is to load all required modules\n",
    "from cv2 import VideoCapture, imshow, namedWindow, imwrite, destroyWindow, waitKey, cvtColor, COLOR_BGR2RGB\n",
    "import matplotlib.pyplot as plt\n",
    "import os\n",
    "import sys\n",
    "\n"
   ]
  },
  {
   "cell_type": "markdown",
   "id": "769b5774",
   "metadata": {},
   "source": [
    "## Searching for cameras\n",
    "You might have multiple cameras installed in your system and they might have different numbering. Try to search all of them (up to 3 in this example).\n"
   ]
  },
  {
   "cell_type": "code",
   "execution_count": null,
   "id": "642c13c1",
   "metadata": {},
   "outputs": [],
   "source": [
    "# create an empty list of webcams\n",
    "webcams = []\n",
    "\n",
    "for i in range(3):\n",
    "    try:\n",
    "        cam = VideoCapture(i)\n",
    "        if cam.isOpened():\n",
    "            webcams.append(i)\n",
    "            # might be good to stop after the first one ...\n",
    "    except:\n",
    "        print(\"No camera at index \",i)\n",
    "    cam.release()\n",
    "\n",
    "print(\"Cameras: \",len(webcams),webcams)\n",
    "\n",
    "if len(webcams) < 1:\n",
    "    print(\"No cameras\")\n",
    "    sys.exit()"
   ]
  },
  {
   "cell_type": "markdown",
   "id": "1e6bbd7c",
   "metadata": {},
   "source": [
    "## Capture loop\n",
    "Then we open the first camera and try to read the image stream. This will open a new display window outside of your browser, watch out, it might be in the background.\n",
    "\n",
    "Focus the preview window and press any key to capture the image. It will be saved and displayed. \n",
    "\n",
    "This window runs in a separate *event loop*, so you would be able to record multiple images or streams.\n"
   ]
  },
  {
   "cell_type": "code",
   "execution_count": null,
   "id": "72763dcb",
   "metadata": {},
   "outputs": [],
   "source": [
    "# we save and load the image in the same fashion as before\n",
    "# but we use \"png\" format which gives a better quality for the\n",
    "# next chapter\n",
    "TARGET_DIR = \"data\"\n",
    "# if the directory doesn't exist, we create it\n",
    "if not TARGET_DIR in os.listdir():\n",
    "    os.mkdir(TARGET_DIR)\n",
    "\n",
    "file = \"webcam.jpg\"\n",
    "\n",
    "# we use the first camera availabe\n",
    "cn = webcams[0]\n",
    "print(\"Using cam \",cn)\n",
    "print(\"Press any key to take snapshot to \",file)\n",
    "\n",
    "# access the webcam\n",
    "cam = VideoCapture(cn)\n",
    "namedWindow(\"WebCam\") \n",
    "\n",
    "# this is the loop where the camera handler runs in\n",
    "while True:\n",
    "    s, img = cam.read()\n",
    "    if s:    # frame captured without any errors\n",
    "        imshow(\"WebCam\",img)\n",
    "\n",
    "    # waitkey(0) stops until key presseed!\n",
    "    k = waitKey(30)\n",
    "    if k > 0 and k < 255:\n",
    "        break\n",
    "\n",
    "destroyWindow(\"WebCam\")\n",
    "cam.release()"
   ]
  },
  {
   "cell_type": "markdown",
   "id": "57cf4d27",
   "metadata": {},
   "source": [
    "## Colorspace\n",
    "opencv uses a different color mapping internally: BGR. we need to convert it to RGB"
   ]
  },
  {
   "cell_type": "code",
   "execution_count": null,
   "id": "ad43a362",
   "metadata": {},
   "outputs": [],
   "source": [
    "\n",
    "img_rgb = cvtColor(img, COLOR_BGR2RGB)\n",
    "\n",
    "plt.imsave(os.path.sep.join([TARGET_DIR,file]),img_rgb)\n",
    "\n",
    "plt.imshow(img_rgb)\n",
    "plt.axis(\"off\")"
   ]
  },
  {
   "cell_type": "markdown",
   "id": "84e7c80e",
   "metadata": {},
   "source": [
    "## Summary\n",
    "We have seen how to record an image from the webcam. You can deal with these images in the same way as before.\n",
    "\n",
    "In addition to webcam access opencv provides numerous image processing functions, similar to skimage.\n",
    "\n",
    "Check the docs at [https://opencv-python-tutroals.readthedocs.io/en/latest/py_tutorials/py_tutorials.html](https://opencv-python-tutroals.readthedocs.io/en/latest/py_tutorials/py_tutorials.html)\n",
    " and [https://pypi.org/project/opencv-python/](https://pypi.org/project/opencv-python/)\n",
    " "
   ]
  }
 ],
 "metadata": {
  "kernelspec": {
   "display_name": "Python 3",
   "language": "python",
   "name": "python3"
  },
  "language_info": {
   "codemirror_mode": {
    "name": "ipython",
    "version": 3
   },
   "file_extension": ".py",
   "mimetype": "text/x-python",
   "name": "python",
   "nbconvert_exporter": "python",
   "pygments_lexer": "ipython3",
   "version": "3.7.10"
  }
 },
 "nbformat": 4,
 "nbformat_minor": 5
}
