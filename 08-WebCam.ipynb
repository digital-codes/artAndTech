{
 "cells": [
  {
   "cell_type": "markdown",
   "id": "7ce531b2",
   "metadata": {},
   "source": [
    "## WebCam\n",
    "Accessing the webcam in a remote jupyter installation requires the WebRTC module to access the camera via the browser interface. Mkae sure to allow the browser to access your camera!\n",
    "\n",
    "This method can also be used on a local jupyter instance.\n",
    "\n"
   ]
  },
  {
   "cell_type": "code",
   "execution_count": 1,
   "id": "3a4910a5",
   "metadata": {},
   "outputs": [],
   "source": [
    "# First step is to load all required modules\n",
    "#from cv2 import VideoCapture, imshow, namedWindow, imwrite, destroyWindow, waitKey, cvtColor, COLOR_BGR2RGB, COLOR_BGRA2RGB\n",
    "import matplotlib.pyplot as plt\n",
    "import os\n",
    "\n",
    "# for webrtc, we need\n",
    "from ipywebrtc import CameraStream, ImageRecorder\n",
    "# see https://ipywebrtc.readthedocs.io/en/latest/CameraStream.html\n",
    "\n",
    "# and some image libraries, e.g. PILLOW (opencv should work as well)\n",
    "import PIL.Image\n",
    "import PIL.ImageFilter\n",
    "import io\n",
    "#from cv2 import VideoCapture, imshow, namedWindow, imwrite, destroyWindow, waitKey, cvtColor, COLOR_BGR2RGB, COLOR_BGRA2RGB\n"
   ]
  },
  {
   "cell_type": "markdown",
   "id": "769b5774",
   "metadata": {},
   "source": [
    "## Searching for cameras\n",
    "You might have multiple cameras installed in your system and they might have different numbering. Try to search all of them (up to 3 in this example).\n"
   ]
  },
  {
   "cell_type": "code",
   "execution_count": null,
   "id": "642c13c1",
   "metadata": {},
   "outputs": [],
   "source": [
    "# seperate cell here to open and display the camera\n",
    "\n",
    "try:\n",
    "    camera = CameraStream(constraints=\n",
    "                      {'facing_mode': 'user',\n",
    "                       'audio': False,\n",
    "                       'video': { 'width': 640, 'height': 480 }\n",
    "                       })\n",
    "except:\n",
    "    print(\"No Camera, nowhere ...\")\n",
    "    exit\n",
    "\n"
   ]
  },
  {
   "cell_type": "code",
   "execution_count": null,
   "id": "36d2cad1",
   "metadata": {},
   "outputs": [],
   "source": [
    "# we can display the camera preview here directly\n",
    "camera\n"
   ]
  },
  {
   "cell_type": "code",
   "execution_count": null,
   "id": "644f1c86",
   "metadata": {},
   "outputs": [],
   "source": [
    "# seperate cell here to show image recorder which allows to take a snapshot\n",
    "image_recorder = ImageRecorder(stream=camera)\n"
   ]
  },
  {
   "cell_type": "code",
   "execution_count": null,
   "id": "7890adb4",
   "metadata": {},
   "outputs": [],
   "source": [
    "image_recorder # opens the widget"
   ]
  },
  {
   "cell_type": "code",
   "execution_count": null,
   "id": "c75999f8",
   "metadata": {},
   "outputs": [],
   "source": [
    "# make sure to have snapshot in the previous window!!!\n",
    "# snapshot is available now, so use a new cell to fetch and save the image\n",
    "rawimg = PIL.Image.open(io.BytesIO(image_recorder.image.value))\n"
   ]
  },
  {
   "cell_type": "code",
   "execution_count": null,
   "id": "e39cd056",
   "metadata": {},
   "outputs": [],
   "source": [
    "# use a new cell to save the image\n",
    "# the webcam image is in a \"raw\" format with alpha channel\n",
    "# we could save it as .png, but we convert it to jpg right here\n",
    "TARGET_DIR = \"data\"\n",
    "# if the directory doesn't exist, we create it\n",
    "if not TARGET_DIR in os.listdir():\n",
    "    os.mkdir(TARGET_DIR)\n",
    "\n",
    "file = os.sep.join([TARGET_DIR,\"webcam.jpg\"])\n",
    "\n",
    "# convert to RGB => jpg\n",
    "img = rawimg.convert('RGB')\n",
    "\n",
    "img.save(file)\n",
    "\n"
   ]
  },
  {
   "cell_type": "code",
   "execution_count": null,
   "id": "7045bb3c",
   "metadata": {},
   "outputs": [],
   "source": [
    "# display image\n",
    "img.show()\n"
   ]
  },
  {
   "cell_type": "code",
   "execution_count": null,
   "id": "e50bd875",
   "metadata": {},
   "outputs": [],
   "source": [
    "# we can apply one of the Pillow filters to the image as well\n",
    "img.filter(PIL.ImageFilter.BLUR)\n"
   ]
  },
  {
   "cell_type": "code",
   "execution_count": null,
   "id": "e55e79fd",
   "metadata": {},
   "outputs": [],
   "source": [
    "# we can also provess the image in the same style as before ...\n",
    "from skimage import filters\n",
    "from skimage.color import rgb2gray\n",
    "\n",
    "fig, ax = plt.subplots(nrows=1, ncols=5, figsize=(10,2))\n",
    "ax[0].imshow(img)\n",
    "ax[0].set_title('RGB')\n",
    "\n",
    "grayImg = rgb2gray(img)\n",
    "    \n",
    "ax[1].imshow(grayImg,cmap=\"Greys\")\n",
    "ax[1].set_title('Grayscale')\n",
    "\n",
    "ax[2].hist(grayImg.ravel(), bins=256, histtype='step', color='black')\n",
    "ax[2].set_title('Histogram')\n",
    "\n",
    "thr = filters.threshold_otsu(grayImg)\n",
    "print(\"Computed threshold: \",thr)\n",
    "c = grayImg > thr\n",
    "ax[3].imshow(c,cmap=\"Greys\")\n",
    "ax[3].set_title('Threshold')\n",
    "\n",
    "d = filters.sobel(c)\n",
    "ax[4].imshow(d,cmap=\"Greys\")\n",
    "ax[4].set_title('Edges')\n",
    "\n",
    "for i,x in enumerate(ax):\n",
    "    if i != 2:\n",
    "        x.axis(\"off\") \n",
    "plt.tight_layout()\n",
    "plt.show()\n"
   ]
  },
  {
   "cell_type": "code",
   "execution_count": null,
   "id": "57692f90",
   "metadata": {},
   "outputs": [],
   "source": [
    "# finally, we can turn the image into a 3-dimension numpy array\n",
    "import numpy as np\n",
    "arImg = np.array(img)\n",
    "# display the shape: height(number of rows)-width(number of columns)-colors\n",
    "arImg.shape\n",
    "# "
   ]
  },
  {
   "cell_type": "code",
   "execution_count": null,
   "id": "243c5a3d",
   "metadata": {},
   "outputs": [],
   "source": [
    "# finally, we can turn the image into a 3-dimension numpy array\n",
    "import numpy as np\n",
    "arImg = np.array(img)\n",
    "# display the shape: height(number of rows)-width(number of columns)-colors\n",
    "arImg.shape\n",
    "# now we modify individual image pixels, like putting a black square into \n",
    "# the middle of the image\n",
    "for r in range(10):\n",
    "    for c in range(10):\n",
    "        arImg[arImg.shape[0]//2 + r,arImg.shape[1]//2 + c] = [0,0,0]\n",
    "\n",
    "img2 = PIL.Image.fromarray(arImg)\n",
    "img2.show()"
   ]
  },
  {
   "cell_type": "markdown",
   "id": "84e7c80e",
   "metadata": {},
   "source": [
    "## Summary\n",
    "We have seen how to record an image from the webcam. You can deal with these images with a variety of libraries, like [pillow](https://pillow.readthedocs.io/en/stable/index.html), [scikit-image](https://scikit-image.org/docs/stable/) or [opencv](https://opencv-python-tutroals.readthedocs.io/en/latest/py_tutorials/py_tutorials.html)\n",
    " \n",
    " Also, you can apply modifications at the pixel level with numpy and pillow.\n",
    " "
   ]
  }
 ],
 "metadata": {
  "kernelspec": {
   "display_name": "Python 3 (ipykernel)",
   "language": "python",
   "name": "python3"
  },
  "language_info": {
   "codemirror_mode": {
    "name": "ipython",
    "version": 3
   },
   "file_extension": ".py",
   "mimetype": "text/x-python",
   "name": "python",
   "nbconvert_exporter": "python",
   "pygments_lexer": "ipython3",
   "version": "3.10.6"
  }
 },
 "nbformat": 4,
 "nbformat_minor": 5
}
