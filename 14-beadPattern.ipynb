{
 "cells": [
  {
   "cell_type": "markdown",
   "id": "2894f4a1",
   "metadata": {},
   "source": [
    "This example shows how to generate a simple pattern\n",
    "inspired by http://fakugesi.co.za/vernacular-algorithms-pop-project-isea2018-durban/\n",
    "see also http://fakugesi.co.za/wp-content/uploads/2018/06/Beadwork_Code_3.jpeg\n",
    "and https://csdt.rpi.edu/culture/whte/beadworkalgorithm.html\n",
    "which also links to some images and scratch examples\n",
    "google: https://www.google.com/search?q=algorithm+beadwork&tbm=isch\n"
   ]
  },
  {
   "cell_type": "code",
   "execution_count": null,
   "id": "54c0be21",
   "metadata": {},
   "outputs": [],
   "source": [
    "import numpy as np\n",
    "import matplotlib.pyplot as plt\n",
    "import matplotlib.animation as animation\n",
    "%matplotlib notebook\n",
    "import imageio\n",
    "import sys\n",
    "import os\n"
   ]
  },
  {
   "cell_type": "code",
   "execution_count": null,
   "id": "67484789",
   "metadata": {},
   "outputs": [],
   "source": [
    "\n",
    "# colors\n",
    "colors = ((255, 255, 255), (0, 0, 0), (255, 0, 0), (0, 255, 0))\n",
    "# bead patterns\n",
    "bead5 = np.array(((0,0,1,0,0),(0,1,1,1,0),(1,1,1,1,1),(0,1,1,1,0),(0,0,1,0,0)))\n",
    "bead7 = np.array(((0,0,1,1,1,0,0),(0,1,1,1,1,1,0),(1,1,1,1,1,1,1),(1,1,1,1,1,1,1),(1,1,1,1,1,1,1),(0,1,1,1,1,1,0),(0,0,1,1,1,0,0)))\n",
    "bead9 = np.array(((0,0,1,1,1,1,1,0,0),(0,1,1,1,1,1,1,1,0),(1,1,1,1,1,1,1,1,1),(1,1,1,1,1,1,1,1,1),(1,1,1,1,1,1,1,1,1),(1,1,1,1,1,1,1,1,1),(1,1,1,1,1,1,1,1,1),(0,1,1,1,1,1,1,1,0),(0,0,1,1,1,1,1,0,0)))\n",
    "# select one of the patterns\n",
    "bead = bead7\n"
   ]
  },
  {
   "cell_type": "code",
   "execution_count": null,
   "id": "78c0c211",
   "metadata": {},
   "outputs": [],
   "source": [
    "# a typical pattern is like:\n",
    "# 0r,2g 1s,3w 0r,2g ...\n",
    "# 1w,3s 0g,2r 1w,3s ...\n",
    "# pairs start on same column\n",
    "\n",
    "def mkBead(y,x,col):\n",
    "    \"\"\" create color pattern\"\"\"\n",
    "    p = np.empty((np.shape(bead)[0],np.shape(bead)[1],3),dtype=np.uint8)\n",
    "    p.fill(128)\n",
    "    for i in range(np.shape(bead)[0]):\n",
    "        for j in range(np.shape(bead)[1]):\n",
    "            if bead[i,j] == 1:\n",
    "                p[i,j] = np.array(colors[col])\n",
    "    # set color\n",
    "    I[y:y+np.shape(bead)[0],x:x+np.shape(bead)[1]] = p\n"
   ]
  },
  {
   "cell_type": "code",
   "execution_count": null,
   "id": "05a200a9",
   "metadata": {},
   "outputs": [],
   "source": [
    "# row, col, size, index, left/right, color)\n",
    "def mkThread(y,x, s, i, d, c):\n",
    "    \"\"\"position row,col, length, index, direction, colors (0,1) \"\"\"\n",
    "    b = np.shape(bead)[1]\n",
    "    #d = 1\n",
    "    #print(\"dir \",d)\n",
    "    for j in range(s):\n",
    "        if d == 1:\n",
    "            # top left to bottom right diagonal\n",
    "            # cl starts with 0\n",
    "            cl = c[0] if j < i else c[1]\n",
    "        else:\n",
    "            # top right to bottom left diagonal\n",
    "            # cl 1 start with s\n",
    "            cl = c[0] if j >= s- i else c[1]\n",
    "\n",
    "        mkBead(y,x+j*b,cl)\n",
    "\n"
   ]
  },
  {
   "cell_type": "code",
   "execution_count": null,
   "id": "b75ca53a",
   "metadata": {},
   "outputs": [],
   "source": [
    "# image dimensions, depends on beads and triangle width\n",
    "W = 10 # triangle width in beds\n",
    "T = 8  # triangles in row,\n",
    "R = 4  # Triangle rows. multiple of 4, normally\n",
    "M = np.shape(bead)[0]*W*R # rows\n",
    "N = np.shape(bead)[1]*W*T # cols\n",
    "\n",
    "s = N // T\n",
    "\n",
    "# empty image. needs additional dimentsion for RGB color\n",
    "I = np.empty((M,N,3), dtype = np.uint8)\n",
    "\n",
    "# background fill individual colors\n",
    "I.fill(255)\n",
    "\n",
    "J = []\n"
   ]
  },
  {
   "cell_type": "code",
   "execution_count": null,
   "id": "eb21e3f1",
   "metadata": {},
   "outputs": [],
   "source": [
    "for r in range(W*R):\n",
    "    for t in range(T):\n",
    "        # row, col, size, index, left/right, color)\n",
    "        # direction must change every tile and row\n",
    "        # dir 0 for even/even and odd/odd\n",
    "        d = 0 if (0 == (r // W) % 2) and (0 == t % 2) else \\\n",
    "            0 if (1 == (r // W) % 2) and (1 == t % 2) else 1\n",
    "        # colors are circucar, so order is reversed in odd row\n",
    "        c = (0,1) if (t % 2) == 0 and (0 == (r // W) % 2) else \\\n",
    "            (2,3) if (t % 2) == 1 and (0 == (r // W) % 2) else \\\n",
    "            (3,2) if (t % 2) == 0 and (1 == (r // W) % 2) else (1,0)\n",
    "        mkThread(r*np.shape(bead)[1],t*s,W, r % W, d,c)\n",
    "        J.append(I.copy())\n",
    "\n",
    "plt.imshow(I)\n",
    "plt.show()\n",
    "\n",
    "\n",
    "TARGET_DIR = \"data\"\n",
    "# if the directory doesn't exist, we create it\n",
    "if not TARGET_DIR in os.listdir():\n",
    "    os.mkdir(TARGET_DIR)\n",
    "\n",
    "# save image\n",
    "file = \"bead_lin.jpg\"\n",
    "imageio.imwrite(os.path.sep.join([TARGET_DIR,file]),I)\n",
    "\n"
   ]
  },
  {
   "cell_type": "markdown",
   "id": "648c4afc",
   "metadata": {},
   "source": [
    "The next one generates a video which takes some time prior to showing the output. Please be patient ..."
   ]
  },
  {
   "cell_type": "code",
   "execution_count": null,
   "id": "c5e4f23a",
   "metadata": {},
   "outputs": [],
   "source": [
    "print(\"start animation\")\n",
    "\n",
    "############## display #########\n",
    "f = plt.figure()\n",
    "p1 = f.add_subplot(211)\n",
    "p1.set_title(\"Result\")\n",
    "p1.axis('off')\n",
    "p1.imshow(I)\n",
    "\n",
    "p2 = f.add_subplot(212)\n",
    "p2.set_title(\"Process\")\n",
    "p2.axis('off')\n",
    "\n",
    "\n",
    "################################\n",
    "# plot animation function\n",
    "def plotReplay(f):\n",
    "    if f >= len(J):\n",
    "        im.set_array(J[len(J) - 1])\n",
    "    else:\n",
    "        im.set_array(J[f])\n",
    "    return im,  # the trailing comma is important !!!\n",
    "\n",
    "im = p2.imshow(np.ones(np.shape(I)), animated=True)\n",
    "\n",
    "# give some extra frames for the movie trailer\n",
    "ani = animation.FuncAnimation(f, plotReplay, interval=20, frames=len(J) + 20, blit=True)\n",
    "\n",
    "TARGET_DIR = \"data\"\n",
    "# if the directory doesn't exist, we create it\n",
    "if not TARGET_DIR in os.listdir():\n",
    "    os.mkdir(TARGET_DIR)\n",
    "\n",
    "# save video \n",
    "file = \"bead_ani_lin.mp4\"\n",
    "ani.save(os.path.sep.join([TARGET_DIR,file]))\n",
    "\n"
   ]
  },
  {
   "cell_type": "code",
   "execution_count": null,
   "id": "8226841c",
   "metadata": {},
   "outputs": [],
   "source": []
  },
  {
   "cell_type": "code",
   "execution_count": null,
   "id": "c211260b",
   "metadata": {},
   "outputs": [],
   "source": []
  }
 ],
 "metadata": {
  "kernelspec": {
   "display_name": "Python 3 (ipykernel)",
   "language": "python",
   "name": "python3"
  },
  "language_info": {
   "codemirror_mode": {
    "name": "ipython",
    "version": 3
   },
   "file_extension": ".py",
   "mimetype": "text/x-python",
   "name": "python",
   "nbconvert_exporter": "python",
   "pygments_lexer": "ipython3",
   "version": "3.11.3"
  }
 },
 "nbformat": 4,
 "nbformat_minor": 5
}
