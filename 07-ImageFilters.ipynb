{
 "cells": [
  {
   "cell_type": "markdown",
   "id": "7ce531b2",
   "metadata": {},
   "source": [
    "## Image Filters\n",
    "Earlier we saw how to directly modify pixel values in the image array. But there are more advanced techniques for image manipulations, for example 2D *filters*. Simple filters operate on pixel level, for example a threshold filter (similar to the mask in the previous example) or color separation. Complex filters often operate on individual pixels plus some neighbouring pixels, for example to detect edges or to remove noise.\n",
    "\n",
    "Therer are various libraries which provide image processing functions, we start with *skimage*\n",
    "\n",
    "For more information check [https://scikit-image.org/docs/0.18.x/auto_examples/index.html](https://scikit-image.org/docs/0.18.x/auto_examples/index.html)\n",
    "\n",
    "\n"
   ]
  },
  {
   "cell_type": "code",
   "execution_count": null,
   "id": "83a1aef0",
   "metadata": {},
   "outputs": [],
   "source": [
    "# First step is to load all required modules\n",
    "import numpy as np\n",
    "import matplotlib.pyplot as plt\n",
    "import matplotlib.colors as mcl\n",
    "import random\n",
    "import os\n",
    "\n",
    "from skimage import filters\n",
    "from skimage.color import rgb2gray, rgba2rgb\n"
   ]
  },
  {
   "cell_type": "markdown",
   "id": "112a9310",
   "metadata": {},
   "source": [
    "## Grayscale conversion, threshold and edge detection\n",
    "Many filters don't work on color images, so we have to either separate the colors and process the channels individually or create a greyscale image first. This is what we do here. \n",
    "\n",
    "We create a histogram of the values, then we apply a threshold and finally an edge detection.\n",
    "\n",
    "We use a slightly modified display style by creating a figure with 5 elements, instead of individual figures one by one.\n",
    "\n",
    "**Note: we are loading an PNG image. PNG has FOUR color channels to support transparency.** The format is RGBA, A is for *alpha* channel. 0 is invisible, 1 is opaque.\n",
    "We need to convert RGBA to RGB before we go to grayscale.\n"
   ]
  },
  {
   "cell_type": "code",
   "execution_count": null,
   "id": "8e5b1c74",
   "metadata": {},
   "outputs": [],
   "source": [
    "# we save and load the image in the same fashion as before\n",
    "TARGET_DIR = \"data\"\n",
    "# if the directory doesn't exist, we create it\n",
    "if not TARGET_DIR in os.listdir():\n",
    "    os.mkdir(TARGET_DIR)\n",
    "    \n",
    "file = \"color1.png\"\n",
    "a = plt.imread(os.path.sep.join([TARGET_DIR,file]))\n",
    "\n",
    "fig, ax = plt.subplots(nrows=1, ncols=5, figsize=(10,2))\n",
    "ax[0].imshow(a)\n",
    "ax[0].set_title('RGB')\n",
    "\n",
    "b = rgb2gray(rgba2rgb(a))\n",
    "    \n",
    "ax[1].imshow(b,cmap=\"Greys\")\n",
    "ax[1].set_title('Grayscale')\n",
    "\n",
    "ax[2].hist(b.ravel(), bins=256, histtype='step', color='black')\n",
    "ax[2].set_title('Histogram')\n",
    "\n",
    "thr = filters.threshold_otsu(b)\n",
    "print(\"Computed threshold: \",thr)\n",
    "c = b > thr\n",
    "ax[3].imshow(c,cmap=\"Greys\")\n",
    "ax[3].set_title('Threshold')\n",
    "\n",
    "d = filters.sobel(c)\n",
    "ax[4].imshow(d,cmap=\"Greys\")\n",
    "ax[4].set_title('Edges')\n",
    "\n",
    "for i,x in enumerate(ax):\n",
    "    if i != 2:\n",
    "        x.axis(\"off\") \n",
    "plt.tight_layout()\n",
    "plt.show()\n"
   ]
  },
  {
   "cell_type": "markdown",
   "id": "4926c3ad",
   "metadata": {},
   "source": [
    "## Summary\n",
    "The available libraries allow to apply complex filter operations on entire images.\n",
    "\n",
    "There are many more image processing operations, check the docs"
   ]
  }
 ],
 "metadata": {
  "kernelspec": {
   "display_name": "Python 3 (ipykernel)",
   "language": "python",
   "name": "python3"
  },
  "language_info": {
   "codemirror_mode": {
    "name": "ipython",
    "version": 3
   },
   "file_extension": ".py",
   "mimetype": "text/x-python",
   "name": "python",
   "nbconvert_exporter": "python",
   "pygments_lexer": "ipython3",
   "version": "3.10.6"
  }
 },
 "nbformat": 4,
 "nbformat_minor": 5
}
