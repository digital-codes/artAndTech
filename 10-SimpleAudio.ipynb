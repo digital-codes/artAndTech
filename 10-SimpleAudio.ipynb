{
 "cells": [
  {
   "cell_type": "markdown",
   "id": "1318bd2b",
   "metadata": {},
   "source": [
    "## Simple Audio\n",
    "We load an audio sample in WAV format form an internet url, convert it to a numpy array. \n",
    "\n",
    "The array shape is now 1-dimensional, time (or sample number) and volume.\n",
    "\n",
    "To simplfy things, we remove one channel on stereo samples.\n",
    "\n",
    "We display the audio data as a line plot and we play the sample. \n"
   ]
  },
  {
   "cell_type": "code",
   "execution_count": null,
   "id": "997fd423",
   "metadata": {},
   "outputs": [],
   "source": [
    "%matplotlib inline\n",
    "import matplotlib.pyplot as plt\n",
    "import numpy as np\n",
    "import wave\n",
    "\n",
    "import os\n",
    "\n",
    "import requests\n",
    "import io\n",
    "import IPython.display as ipd"
   ]
  },
  {
   "cell_type": "code",
   "execution_count": null,
   "id": "de88751e",
   "metadata": {},
   "outputs": [],
   "source": [
    "# this time we load a file from the internet directly\n",
    "url = \"http://soundbible.com/grab.php?id=2190&type=wav\"\n",
    "\n",
    "soundData = requests.get(url).content\n",
    "\n",
    "# to handle the data directly with the *wave* library we need to convert it\n",
    "sound = io.BytesIO(soundData)\n",
    "sound.seek(0)\n",
    "\n",
    "# sound is now a file like data structure which *wave* can handle\n",
    "# alternatively, you could use a local file in place of sound\n",
    "soundFile = wave.open(sound)\n",
    "\n",
    "soundParms = soundFile.getparams()\n",
    "print(\"File parameters:\",soundParms)\n",
    "\n",
    "# Each channel is 2 bytes long because the audio is 16 bit. \n",
    "# If is 8 bit, each channel will only be one byte. \n",
    "# You can use the getsampwidth() method to determine this. \n",
    "# Also, getchannels() will determine if its mono or stereo."
   ]
  },
  {
   "cell_type": "code",
   "execution_count": null,
   "id": "3f9b27f4",
   "metadata": {},
   "outputs": [],
   "source": [
    "#Extract a portion (e.g. 10000 frames) of rawaudio\n",
    "# we can rewind first, otherwise we get different data\n",
    "soundFile.rewind()\n",
    "signal = soundFile.readframes(min(20000,soundParms.nframes))\n",
    "# determine the type, 8 bit or 16 bit\n",
    "sigType = np.int16 if soundParms.sampwidth == 2 else np.int8\n",
    "signal = np.frombuffer(signal, sigType)\n",
    "# if stereo, drop second channel\n",
    "if soundParms.nchannels == 2:\n",
    "    # create a mask with odd indices\n",
    "    mask = [i for i in range(signal.shape[0]) if i%2]\n",
    "    signal = np.delete(signal,mask)\n",
    "\n",
    "print(type(signal),signal.shape)"
   ]
  },
  {
   "cell_type": "markdown",
   "id": "f11b3fba",
   "metadata": {},
   "source": [
    "## Plotting audio data\n",
    "We can display the audio data as a line plot. X-Axis is sample number (relates to time), Y-axis is volume."
   ]
  },
  {
   "cell_type": "code",
   "execution_count": null,
   "id": "7ffe5a02",
   "metadata": {},
   "outputs": [],
   "source": [
    "plt.plot(signal)\n",
    "#plt.show()"
   ]
  },
  {
   "cell_type": "markdown",
   "id": "ba8ffe4d",
   "metadata": {},
   "source": [
    "## Playing the sound\n",
    "There are various libraries to play sounds, this one is the simplest for remote Jupyter\n"
   ]
  },
  {
   "cell_type": "code",
   "execution_count": null,
   "id": "f1885337",
   "metadata": {},
   "outputs": [],
   "source": [
    "ipd.Audio(signal, rate=soundParms.framerate) \n",
    "# you could also load a local WAV file\n",
    "\n"
   ]
  },
  {
   "cell_type": "markdown",
   "id": "044032cb",
   "metadata": {},
   "source": [
    "## Generating and writing audio\n",
    "Audio data can be created with mathematical methods, just like image data."
   ]
  },
  {
   "cell_type": "code",
   "execution_count": null,
   "id": "f2ebd69e",
   "metadata": {},
   "outputs": [],
   "source": [
    "# create sample index\n",
    "sine_x = np.arange(0,20000,1)\n",
    "# create sin value, scale it to int16 range\n",
    "sine_y = (np.sin(sine_x/50)*np.iinfo(np.int16).max).astype(np.int16)\n",
    "plt.plot(sine_x,sine_y)"
   ]
  },
  {
   "cell_type": "code",
   "execution_count": null,
   "id": "7dc1a914",
   "metadata": {},
   "outputs": [],
   "source": [
    "# play the sound\n",
    "ipd.Audio(sine_y, rate=20000) "
   ]
  },
  {
   "cell_type": "code",
   "execution_count": null,
   "id": "0fa8460f",
   "metadata": {},
   "outputs": [],
   "source": [
    "# write the sound file\n",
    "# we save and load the image in the same fashion as before\n",
    "# but we use \"png\" format which gives a better quality for the\n",
    "# next chapter\n",
    "TARGET_DIR = \"data\"\n",
    "# if the directory doesn't exist, we create it\n",
    "if not TARGET_DIR in os.listdir():\n",
    "    os.mkdir(TARGET_DIR)\n",
    "    \n",
    "file = \"audio1.wav\"\n",
    "audioFile = os.path.sep.join([TARGET_DIR,file])\n",
    "\n",
    "# calling this cell repeatedly throws an error\n",
    "# if the audio file is still open\n",
    "try:\n",
    "    audio.close()\n",
    "except:\n",
    "    pass\n",
    "\n",
    "    # open the file\n",
    "audio = wave.open(audioFile,\"wb\")\n",
    "\n",
    "# set the paramters\n",
    "audio.setnchannels(1)\n",
    "audio.setsampwidth(2)\n",
    "audio.setframerate(20000)\n",
    "\n",
    "# write data\n",
    "for i in sine_y:\n",
    "    audio.writeframes(i)\n",
    "\n",
    "# close file\n",
    "audio.close()\n",
    "\n"
   ]
  },
  {
   "cell_type": "markdown",
   "id": "970c5c40",
   "metadata": {},
   "source": [
    "## Summary\n",
    "Audio data can be handled in a way similar to images. We can convert to and from numpy data structures.\n",
    "\n",
    "More information for example at the *wave* library documentation [https://docs.python.org/3.7/library/wave.html](https://docs.python.org/3.7/library/wave.html)"
   ]
  }
 ],
 "metadata": {
  "kernelspec": {
   "display_name": "Python 3",
   "language": "python",
   "name": "python3"
  },
  "language_info": {
   "codemirror_mode": {
    "name": "ipython",
    "version": 3
   },
   "file_extension": ".py",
   "mimetype": "text/x-python",
   "name": "python",
   "nbconvert_exporter": "python",
   "pygments_lexer": "ipython3",
   "version": "3.7.10"
  }
 },
 "nbformat": 4,
 "nbformat_minor": 5
}
