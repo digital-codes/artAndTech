{
 "cells": [
  {
   "cell_type": "code",
   "execution_count": null,
   "id": "f8133d0b",
   "metadata": {},
   "outputs": [],
   "source": [
    "\"\"\"\n",
    "HexagonLayer\n",
    "==============\n",
    "\n",
    "Personal injury road accidents in GB from 1979.\n",
    "\n",
    "The layer aggregates data within the boundary of each hexagon cell.\n",
    "\n",
    "This example is adapted from the deck.gl documentation.\n",
    "\"\"\"\n",
    "\n",
    "import pydeck as pdk\n",
    "import os\n",
    "\n",
    "HEXAGON_LAYER_DATA = (\n",
    "    \"https://raw.githubusercontent.com/visgl/deck.gl-data/master/examples/3d-heatmap/heatmap-data.csv\"  # noqa\n",
    ")\n",
    "\n",
    "# Define a layer to display on a map\n",
    "layer = pdk.Layer(\n",
    "    \"HexagonLayer\",\n",
    "    HEXAGON_LAYER_DATA,\n",
    "    get_position=[\"lng\", \"lat\"],\n",
    "    auto_highlight=True,\n",
    "    elevation_scale=50,\n",
    "    pickable=True,\n",
    "    elevation_range=[0, 3000],\n",
    "    extruded=True,\n",
    "    coverage=1,\n",
    ")\n",
    "\n",
    "# Set the viewport location\n",
    "view_state = pdk.ViewState(\n",
    "    longitude=-1.415, latitude=52.2323, zoom=6, min_zoom=5, max_zoom=15, pitch=40.5, bearing=-27.36,\n",
    ")\n",
    "\n",
    "# Render\n",
    "r = pdk.Deck(layers=[layer], initial_view_state=view_state)\n",
    "\n",
    "TARGET_DIR = \"data\"\n",
    "# if the directory doesn't exist, we create it\n",
    "if not TARGET_DIR in os.listdir():\n",
    "    os.mkdir(TARGET_DIR)\n",
    "\n",
    "file = os.sep.join([TARGET_DIR,\"hexagon_layer.html\"])\n",
    "\n",
    "r.to_html(file)\n"
   ]
  },
  {
   "cell_type": "code",
   "execution_count": null,
   "id": "36f87489",
   "metadata": {},
   "outputs": [],
   "source": []
  }
 ],
 "metadata": {
  "kernelspec": {
   "display_name": "Python 3 (ipykernel)",
   "language": "python",
   "name": "python3"
  },
  "language_info": {
   "codemirror_mode": {
    "name": "ipython",
    "version": 3
   },
   "file_extension": ".py",
   "mimetype": "text/x-python",
   "name": "python",
   "nbconvert_exporter": "python",
   "pygments_lexer": "ipython3",
   "version": "3.9.13"
  }
 },
 "nbformat": 4,
 "nbformat_minor": 5
}
