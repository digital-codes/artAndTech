{
 "cells": [
  {
   "cell_type": "markdown",
   "id": "7ce531b2",
   "metadata": {},
   "source": [
    "## Fundamental Graphics"
   ]
  },
  {
   "cell_type": "code",
   "execution_count": 3,
   "id": "38984cac",
   "metadata": {},
   "outputs": [
    {
     "name": "stdout",
     "output_type": "stream",
     "text": [
      "Help on function main in module __main__:\n",
      "\n",
      "main()\n",
      "    create a checker board pattern using a function as a list of lists\n",
      "    Print row by row at the end\n",
      "\n",
      "Help on function segment in module __main__:\n",
      "\n",
      "segment(seg, width, color)\n",
      "    append <width> items of <color> to a <seg>ment\n",
      "    Returns new segment\n",
      "\n",
      "Checker board, row by row. One list per row\n",
      "[0, 0, 0, 0, 1, 1, 1, 1, 0, 0, 0, 0, 1, 1, 1, 1]\n",
      "[0, 0, 0, 0, 1, 1, 1, 1, 0, 0, 0, 0, 1, 1, 1, 1]\n",
      "[0, 0, 0, 0, 1, 1, 1, 1, 0, 0, 0, 0, 1, 1, 1, 1]\n",
      "[0, 0, 0, 0, 1, 1, 1, 1, 0, 0, 0, 0, 1, 1, 1, 1]\n",
      "[1, 1, 1, 1, 0, 0, 0, 0, 1, 1, 1, 1, 0, 0, 0, 0]\n",
      "[1, 1, 1, 1, 0, 0, 0, 0, 1, 1, 1, 1, 0, 0, 0, 0]\n",
      "[1, 1, 1, 1, 0, 0, 0, 0, 1, 1, 1, 1, 0, 0, 0, 0]\n",
      "[1, 1, 1, 1, 0, 0, 0, 0, 1, 1, 1, 1, 0, 0, 0, 0]\n",
      "[0, 0, 0, 0, 1, 1, 1, 1, 0, 0, 0, 0, 1, 1, 1, 1]\n",
      "[0, 0, 0, 0, 1, 1, 1, 1, 0, 0, 0, 0, 1, 1, 1, 1]\n",
      "[0, 0, 0, 0, 1, 1, 1, 1, 0, 0, 0, 0, 1, 1, 1, 1]\n",
      "[0, 0, 0, 0, 1, 1, 1, 1, 0, 0, 0, 0, 1, 1, 1, 1]\n",
      "[1, 1, 1, 1, 0, 0, 0, 0, 1, 1, 1, 1, 0, 0, 0, 0]\n",
      "[1, 1, 1, 1, 0, 0, 0, 0, 1, 1, 1, 1, 0, 0, 0, 0]\n",
      "[1, 1, 1, 1, 0, 0, 0, 0, 1, 1, 1, 1, 0, 0, 0, 0]\n",
      "[1, 1, 1, 1, 0, 0, 0, 0, 1, 1, 1, 1, 0, 0, 0, 0]\n"
     ]
    }
   ],
   "source": [
    "\"\"\" Expand the minimal function of the previous example\n",
    "by returning a value. This value is used to compose\n",
    "a list (the row) at the higher level - the main function\n",
    "\n",
    "Instead of printing all segments directly we construct a list of lists.\n",
    "We print row by row at the end of the program by iterating through the rows.\n",
    "\n",
    "We also use a function for the main body of the program and call it main()\n",
    "This is usefull for more complex scenarios when we use multiple files\n",
    "\n",
    "\"\"\"\n",
    "\n",
    "# function to make one linear segment of a pattern\n",
    "def segment(seg,width, color):\n",
    "    \"\"\" append <width> items of <color> to a <seg>ment\n",
    "    Returns new segment\n",
    "    \"\"\"\n",
    "    # add items with a FOR LOOP\n",
    "    for i in range(width):\n",
    "        seg.append(color)\n",
    "    # return the list\n",
    "    return seg\n",
    "\n",
    "# the main function\n",
    "def main():\n",
    "    \"\"\"create a checker board pattern using a function as a list of lists\n",
    "    Print row by row at the end\"\"\"\n",
    "    # constants\n",
    "    FIELDS = 4\n",
    "    FIELD_WIDTH = 4\n",
    "\n",
    "    # variables\n",
    "    row = 0\n",
    "    column = 0\n",
    "    # set color to 0\n",
    "    color = 0\n",
    "    # create the empty board\n",
    "    board = []\n",
    "    # create an empty line to start with\n",
    "    line = []\n",
    "    while row < FIELDS*FIELD_WIDTH and column < FIELDS*FIELD_WIDTH:\n",
    "        # append the segment to the line\n",
    "        line = segment(line,FIELD_WIDTH,color)\n",
    "        # invert color\n",
    "        color = 1 if color == 0 else 0\n",
    "        # increment column\n",
    "        column = column + FIELD_WIDTH if column < FIELD_WIDTH*(FIELDS-1) else 0\n",
    "        # if column == 0 then previous line is complete.\n",
    "        # add line to board, increment row and start a new line\n",
    "        if column == 0:\n",
    "            board.append(line)\n",
    "            row = row + 1\n",
    "            line = []\n",
    "        # invert color again if new row and end of field\n",
    "        if column == 0 and row % FIELD_WIDTH == 0 :\n",
    "            color = 1 if color == 0 else 0\n",
    "\n",
    "    return board\n",
    "\n",
    "# call the main function\n",
    "if __name__ == \"__main__\":\n",
    "    help(main)\n",
    "    help(segment)\n",
    "    brd = main()\n",
    "    print(\"Checker board, row by row. One list per row\")\n",
    "    for b in brd:\n",
    "        print(b)  \n"
   ]
  },
  {
   "cell_type": "markdown",
   "id": "750399c6",
   "metadata": {},
   "source": [
    "## Pretty Print\n",
    "Iterating through the rows is not so convenient and it doesn't show the entire data structure. \n",
    "We could print the entire object, but that doesn't look nice (try for yourself).\n",
    "\n",
    "We use the *pprint* (pretty print) library to get a nice output for the entire array. Note the outer brackets and the commas."
   ]
  },
  {
   "cell_type": "code",
   "execution_count": 4,
   "id": "118a72a4",
   "metadata": {},
   "outputs": [
    {
     "name": "stdout",
     "output_type": "stream",
     "text": [
      "[[0, 0, 0, 0, 1, 1, 1, 1, 0, 0, 0, 0, 1, 1, 1, 1],\n",
      " [0, 0, 0, 0, 1, 1, 1, 1, 0, 0, 0, 0, 1, 1, 1, 1],\n",
      " [0, 0, 0, 0, 1, 1, 1, 1, 0, 0, 0, 0, 1, 1, 1, 1],\n",
      " [0, 0, 0, 0, 1, 1, 1, 1, 0, 0, 0, 0, 1, 1, 1, 1],\n",
      " [1, 1, 1, 1, 0, 0, 0, 0, 1, 1, 1, 1, 0, 0, 0, 0],\n",
      " [1, 1, 1, 1, 0, 0, 0, 0, 1, 1, 1, 1, 0, 0, 0, 0],\n",
      " [1, 1, 1, 1, 0, 0, 0, 0, 1, 1, 1, 1, 0, 0, 0, 0],\n",
      " [1, 1, 1, 1, 0, 0, 0, 0, 1, 1, 1, 1, 0, 0, 0, 0],\n",
      " [0, 0, 0, 0, 1, 1, 1, 1, 0, 0, 0, 0, 1, 1, 1, 1],\n",
      " [0, 0, 0, 0, 1, 1, 1, 1, 0, 0, 0, 0, 1, 1, 1, 1],\n",
      " [0, 0, 0, 0, 1, 1, 1, 1, 0, 0, 0, 0, 1, 1, 1, 1],\n",
      " [0, 0, 0, 0, 1, 1, 1, 1, 0, 0, 0, 0, 1, 1, 1, 1],\n",
      " [1, 1, 1, 1, 0, 0, 0, 0, 1, 1, 1, 1, 0, 0, 0, 0],\n",
      " [1, 1, 1, 1, 0, 0, 0, 0, 1, 1, 1, 1, 0, 0, 0, 0],\n",
      " [1, 1, 1, 1, 0, 0, 0, 0, 1, 1, 1, 1, 0, 0, 0, 0],\n",
      " [1, 1, 1, 1, 0, 0, 0, 0, 1, 1, 1, 1, 0, 0, 0, 0]]\n"
     ]
    }
   ],
   "source": [
    "import pprint\n",
    "pprint.pprint(brd)"
   ]
  },
  {
   "cell_type": "markdown",
   "id": "d9b0d8f8",
   "metadata": {},
   "source": [
    "## Simple Graphics\n",
    "Besides printing the 2D array using 1' and 0' we can also display it as a pixel image\n",
    "using one of the fundamental drawing libraries in Python: matplotlib\n",
    "\n",
    "Matplotlib gives us several function to display graphics and images\n",
    "\n",
    "See also [https://matplotlib.org/stable/contents.html](https://matplotlib.org/stable/contents.html)\n",
    "\n",
    "Matplotlib also has some color functions, see [https://matplotlib.org/stable/gallery/color/colormap_reference.html](https://matplotlib.org/stable/gallery/color/colormap_reference.html)\n"
   ]
  },
  {
   "cell_type": "code",
   "execution_count": 5,
   "id": "a5e18056",
   "metadata": {},
   "outputs": [
    {
     "data": {
      "text/plain": [
       "<matplotlib.image.AxesImage at 0x7efc16dc4ad0>"
      ]
     },
     "execution_count": 5,
     "metadata": {},
     "output_type": "execute_result"
    },
    {
     "data": {
      "image/png": "[encoded data removed]",
      "text/plain": [
       "<Figure size 432x288 with 1 Axes>"
      ]
     },
     "metadata": {
      "needs_background": "light"
     },
     "output_type": "display_data"
    }
   ],
   "source": [
    "# the next line is just a hint for the notebook server how to display graphics\n",
    "# you don't need it with standalone Python\n",
    "%matplotlib inline\n",
    "import matplotlib.pyplot as plt\n",
    "\n",
    "plt.imshow(brd,cmap=\"Greys\")\n",
    "# When ou can run this code from plain python, not within a notebook,\n",
    "# you will need to call the plt.show() function to actually see\n",
    "# the plot. We don't need this here\n",
    "#plt.show()\n"
   ]
  },
  {
   "cell_type": "markdown",
   "id": "8ecac087",
   "metadata": {},
   "source": [
    "## Numpy\n",
    "We are now importing the *numpy* library. Numpy provides advanced math capabilities which \n",
    "helps working with theses 2-dimensional arrays (lists).\n",
    "\n",
    "See also [https://numpy.org/doc/stable/user/index.html](https://numpy.org/doc/stable/user/index.html)\n",
    "\n"
   ]
  },
  {
   "cell_type": "code",
   "execution_count": 6,
   "id": "b59f8e56",
   "metadata": {},
   "outputs": [
    {
     "name": "stdout",
     "output_type": "stream",
     "text": [
      "Shape of the board is  (16, 16) pixels\n"
     ]
    },
    {
     "data": {
      "image/png": "[encoded data removed]",
      "text/plain": [
       "<Figure size 432x288 with 1 Axes>"
      ]
     },
     "metadata": {
      "needs_background": "light"
     },
     "output_type": "display_data"
    }
   ],
   "source": [
    "import numpy as np\n",
    "\n",
    "# we create numpy an array from our lists \n",
    "a = np.array(brd)\n",
    "# The cmap parameter defines the color map. \n",
    "plt.imshow(a,cmap=\"Greys\")\n",
    "\n",
    "# The result looks exactly like the one before without numpy\n",
    "# But we are now able to get the dimensions of the array via the \"shape\" aatribute\n",
    "print(\"Shape of the board is \",a.shape, \"pixels\")\n",
    "\n",
    "# and you will see more interesting stuff soon ..."
   ]
  },
  {
   "cell_type": "markdown",
   "id": "e1cfa615",
   "metadata": {},
   "source": [
    "## Indexing 2D arrays\n",
    "As seen before, we can access list elements via an index, written in square brackets. With 2D array we can also use indexes and we simply place two square brackets in a sequence, like **a[1][2]**\n",
    "\n",
    "This relates to the pixel in the second row and third column. **We start numbering at 0!** \n",
    "\n",
    "With numpy, we can write indexes also like **a[2,3]**, a single pair of square brackets containing a list of indexes. \n",
    "\n",
    "Finally, we can use ranges inside the index list, like **a[0,0:3]**\n",
    "\n",
    "As you might have guessed, we can also provide a list when we use a list range.\n"
   ]
  },
  {
   "cell_type": "code",
   "execution_count": 7,
   "id": "57ae5909",
   "metadata": {},
   "outputs": [
    {
     "name": "stdout",
     "output_type": "stream",
     "text": [
      "Element in second row, third column is now 1\n",
      "array([[0., 0., 0., 0., 0.],\n",
      "       [0., 0., 1., 0., 0.],\n",
      "       [0., 0., 0., 0., 0.]])\n",
      "Element in third row, fifth column is now 2\n",
      "array([[0., 0., 0., 0., 0.],\n",
      "       [0., 0., 1., 0., 0.],\n",
      "       [0., 0., 0., 0., 2.]])\n",
      "First 4 columns in first row are now 5\n",
      "array([[5., 5., 5., 5., 0.],\n",
      "       [0., 0., 1., 0., 0.],\n",
      "       [0., 0., 0., 0., 2.]])\n",
      "First 3 columns in third row are now 7,8,9\n",
      "array([[5., 5., 5., 5., 0.],\n",
      "       [0., 0., 1., 0., 0.],\n",
      "       [7., 8., 9., 0., 2.]])\n"
     ]
    }
   ],
   "source": [
    "# we create an array of zeros with 3 rows and 5 columns\n",
    "a = np.zeros((3,5))\n",
    "# we set the value at index[1][2] to 1\n",
    "a[1][2] = 1\n",
    "print(\"Element in second row, third column is now 1\")\n",
    "pprint.pprint(a)\n",
    "\n",
    "a[2,4] = 2\n",
    "print(\"Element in third row, fifth column is now 2\")\n",
    "pprint.pprint(a)\n",
    "\n",
    "a[0,0:4] = 5\n",
    "print(\"First 4 columns in first row are now 5\")\n",
    "pprint.pprint(a)\n",
    "\n",
    "a[2,0:3] = (7,8,9)\n",
    "print(\"First 3 columns in third row are now 7,8,9\")\n",
    "pprint.pprint(a)\n"
   ]
  },
  {
   "cell_type": "code",
   "execution_count": 8,
   "id": "3ea503a8",
   "metadata": {},
   "outputs": [],
   "source": [
    "# When we want to save our first image to the computer\n",
    "# we need to create the directory \"data\" for the results, \n",
    "# To do this, we have to import another module (library): os\n",
    "import os\n",
    "\n",
    "# we use a constant to name the target directory \n",
    "# Note: Python doesn't have constants, it's just a \n",
    "# convention to use upper case names\n",
    "\n",
    "TARGET_DIR = \"data\"\n",
    "# if the directory doesn't exist, we create it\n",
    "if not TARGET_DIR in os.listdir():\n",
    "    os.mkdir(TARGET_DIR)\n",
    "\n",
    "# we use a variable for the file name, as we will \n",
    "# be saving different images ...\n",
    "file = \"checker1.jpg\"\n",
    "\n",
    "# the following looks a bit complicated but \n",
    "# provides a portable way for all operating systems\n",
    "# to declare path names\n",
    "plt.imsave(os.path.sep.join([TARGET_DIR,file]),brd,cmap=\"Greys\")"
   ]
  },
  {
   "cell_type": "markdown",
   "id": "f9eb956f",
   "metadata": {},
   "source": [
    "Now we have written the image to the path data/checker1.jpg. If this was successfull,\n",
    "we should be able to find it there with the file browser. Also, we should see the file in this box:\n",
    "\n",
    "![](data/checker1.jpg)\n",
    "\n",
    "You notice that the image looks MUCH smaller, because it now is shown in its actual size, for example 16x16 pixel for 4 fields of width 4. The plt.imshow() command tries to scale every image to a reasonable size for inline display.\n"
   ]
  },
  {
   "cell_type": "markdown",
   "id": "a03b94fe",
   "metadata": {},
   "source": [
    "## Arrays from scratch and random\n",
    "We can construct arrays from scratch using a variety of numpy functions. Here we use an empty array and fill it with random integers from the *random* library\n"
   ]
  },
  {
   "cell_type": "code",
   "execution_count": 9,
   "id": "00e8c766",
   "metadata": {},
   "outputs": [
    {
     "name": "stdout",
     "output_type": "stream",
     "text": [
      "array([[133., 185., 116.,  62.,  16.,  19., 136., 186., 241., 103.],\n",
      "       [ 83., 159., 240.,  91.,  31., 165.,  28., 229.,  41., 145.],\n",
      "       [ 24.,   5., 204.,  87.,  31., 140.,  37.,   9.,  85., 241.],\n",
      "       [196., 190.,  99.,  23., 126.,  45., 112., 234.,  10.,  91.],\n",
      "       [130., 103., 208., 180.,  67., 175.,  28.,  73., 225.,  82.],\n",
      "       [133.,  19., 202., 163., 107., 180., 161., 235., 184., 203.]])\n"
     ]
    }
   ],
   "source": [
    "# Now we create an empty array of a specific size\n",
    "rows = 6\n",
    "cols = 10\n",
    "ar = np.empty((rows,cols))\n",
    "\n",
    "# the value of the elements are undefined, so we have to assign something\n",
    "# This time, we use the random library to fill the array\n",
    "# with elements between 0 and 255.\n",
    "# Note: every time you run this cell you will get different values\n",
    "import random\n",
    "for i in range(ar.shape[0]):\n",
    "    for j in range(ar.shape[1]):\n",
    "        ar[i,j] = random.randint(0,256)\n",
    "\n",
    "pprint.pprint(ar)\n",
    "#import matplotlib.colors as mcol\n"
   ]
  },
  {
   "cell_type": "markdown",
   "id": "75894fbd",
   "metadata": {},
   "source": [
    "We use a different color map this time on the first file."
   ]
  },
  {
   "cell_type": "code",
   "execution_count": 10,
   "id": "c63750f6",
   "metadata": {},
   "outputs": [
    {
     "data": {
      "image/png": "[encoded data removed]",
      "text/plain": [
       "<Figure size 432x288 with 1 Axes>"
      ]
     },
     "metadata": {
      "needs_background": "light"
     },
     "output_type": "display_data"
    }
   ],
   "source": [
    "plt.imshow(ar,cmap=\"Greys\")\n",
    "plt.show()\n",
    "\n",
    "file = \"random1.jpg\"\n",
    "\n",
    "# the following looks a bit complicated but \n",
    "# provides a portable way for all operating systems\n",
    "# to declare path names\n",
    "plt.imsave(os.path.sep.join([TARGET_DIR,file]),ar,cmap=\"Greys\")"
   ]
  },
  {
   "cell_type": "markdown",
   "id": "8db3c28e",
   "metadata": {},
   "source": [
    "Then we scale the size of the image by repeating the \n",
    "pixel across the two different axes corresponding to rows and columns"
   ]
  },
  {
   "cell_type": "code",
   "execution_count": 11,
   "id": "bab05a9c",
   "metadata": {},
   "outputs": [
    {
     "name": "stdout",
     "output_type": "stream",
     "text": [
      "New shape after axis 0 :  (600, 10)\n",
      "New shape after axis 1 :  (600, 1000)\n"
     ]
    },
    {
     "data": {
      "text/plain": [
       "<matplotlib.image.AxesImage at 0x7efc0e705e50>"
      ]
     },
     "execution_count": 11,
     "metadata": {},
     "output_type": "execute_result"
    },
    {
     "data": {
      "image/png": "[encoded data removed]",
      "text/plain": [
       "<Figure size 432x288 with 1 Axes>"
      ]
     },
     "metadata": {
      "needs_background": "light"
     },
     "output_type": "display_data"
    }
   ],
   "source": [
    "# make the image larger by repeating every pixel\n",
    "# repeat rows via axis 0\n",
    "axis = 0\n",
    "# using a different name here is saver when we go through the notebook\n",
    "# at differnt places as we use ar above already\n",
    "ar1 = ar.repeat(100,axis=axis)\n",
    "print(\"New shape after axis\",axis,\": \", ar1.shape)\n",
    "# repeat columns via axis 1\n",
    "axis = 1\n",
    "ar1 = ar1.repeat(100,axis=axis)\n",
    "print(\"New shape after axis\",axis,\": \", ar1.shape)\n",
    "\n",
    "# save this file again\n",
    "file = \"random2.jpg\"\n",
    "plt.imsave(os.path.sep.join([TARGET_DIR,file]),ar1,cmap=\"Greys\")\n",
    "\n",
    "plt.imshow(ar1,cmap=\"Greys\")\n",
    "#plt.show()"
   ]
  },
  {
   "cell_type": "markdown",
   "id": "79d2e89f",
   "metadata": {},
   "source": [
    "Both images above are displayed at the same size. However you can notice from the axes that their \n",
    "size is actually quite different. You will see the real size when you open the images from their folder.  "
   ]
  },
  {
   "cell_type": "markdown",
   "id": "d8237a24",
   "metadata": {},
   "source": [
    "## Loading Images\n",
    "We can load images from the filesystem and turn them into 2D-arrays for processing. "
   ]
  },
  {
   "cell_type": "code",
   "execution_count": 12,
   "id": "45d9d2be",
   "metadata": {},
   "outputs": [
    {
     "name": "stdout",
     "output_type": "stream",
     "text": [
      "Shape of image is  (6, 10, 3)\n",
      "Value in row 0, col 0 is:  [124 124 124]\n"
     ]
    },
    {
     "data": {
      "text/plain": [
       "(-0.5, 9.5, 5.5, -0.5)"
      ]
     },
     "execution_count": 12,
     "metadata": {},
     "output_type": "execute_result"
    },
    {
     "data": {
      "image/png": "[encoded data removed]",
      "text/plain": [
       "<Figure size 432x288 with 1 Axes>"
      ]
     },
     "metadata": {
      "needs_background": "light"
     },
     "output_type": "display_data"
    }
   ],
   "source": [
    "# we load the first random file\n",
    "file = \"random1.jpg\"\n",
    "img = plt.imread(os.path.sep.join([TARGET_DIR,file]))\n",
    "print(\"Shape of image is \",img.shape)\n",
    "# we display first value\n",
    "print(\"Value in row 0, col 0 is: \",img[0,0])\n",
    "\n",
    "plt.imshow(img)\n",
    "# to make the display look more like an image and not like a diagram we turn off\n",
    "# the axes display\n",
    "plt.axis('off')\n"
   ]
  },
  {
   "cell_type": "markdown",
   "id": "cfaabfc6",
   "metadata": {},
   "source": [
    "We notice that the shape of the numpy array has changed: \n",
    "\n",
    "**we have a third dimension of size 3.**\n",
    "\n",
    "This is because we saved the image using a certain color map *cmap*, which expands the byte values to standard RGB (red-green-blue) color *channels*. Each RGB value has 3 bytes. This is what we have on disk and what we see here. \n",
    "\n",
    "When we use a colormap different to *Greys*, which assigns the same value to all three channels, we might also notice that the colors are not exactly the ones displayed above, however they match the colors we see when we open the file from disk. This depends on the cmap used during display and saving. And matplotlib's color mapping is optimized for data displays, not for images \n",
    "\n",
    "Showing the image using a color map and saving the image using a color map does not always produce the same result.\n",
    "For the moment, we stick with grayscale images, or single color cmaps like \"Greens\", \"Reds\", \"Blues\".\n",
    "\n"
   ]
  },
  {
   "cell_type": "markdown",
   "id": "da72e352",
   "metadata": {},
   "source": [
    "## Modifying Pixels\n",
    "We will apply some basic operations to the image we have just loaded:\n",
    "\n",
    " * Make a copy, so we can keep the original\n",
    " * Set a row and a column to a specific value\n",
    " * Apply a mask using a threshold value and set all mask pixel to a specific value\n",
    " \n",
    " The masking produces a new array of boolean (True/False) values of same size. The element is True if the masking condition hold (e.g. value < 100). The subsequent assignment is effective only for the *True* elements.\n",
    " \n",
    " Remember, we have now 3 color channels, but assuming grayscale we can simply assign a single value."
   ]
  },
  {
   "cell_type": "code",
   "execution_count": 13,
   "id": "2c19a1aa",
   "metadata": {},
   "outputs": [
    {
     "name": "stdout",
     "output_type": "stream",
     "text": [
      "Shape is  (6, 10, 3)\n",
      "Third row, initially: \n",
      "array([[237, 237, 237],\n",
      "       [255, 255, 255],\n",
      "       [ 51,  51,  51],\n",
      "       [196, 196, 196],\n",
      "       [232, 232, 232],\n",
      "       [130, 130, 130],\n",
      "       [239, 239, 239],\n",
      "       [255, 255, 255],\n",
      "       [174, 174, 174],\n",
      "       [  9,   9,   9]], dtype=uint8)\n",
      "Third row, modified: \n",
      "array([[250, 250, 250],\n",
      "       [250, 250, 250],\n",
      "       [250, 250, 250],\n",
      "       [250, 250, 250],\n",
      "       [250, 250, 250],\n",
      "       [250, 250, 250],\n",
      "       [250, 250, 250],\n",
      "       [250, 250, 250],\n",
      "       [250, 250, 250],\n",
      "       [250, 250, 250]], dtype=uint8)\n",
      "New image\n"
     ]
    },
    {
     "data": {
      "image/png": "[encoded data removed]",
      "text/plain": [
       "<Figure size 432x288 with 1 Axes>"
      ]
     },
     "metadata": {
      "needs_background": "light"
     },
     "output_type": "display_data"
    },
    {
     "name": "stdout",
     "output_type": "stream",
     "text": [
      "Original image\n"
     ]
    },
    {
     "data": {
      "image/png": "[encoded data removed]",
      "text/plain": [
       "<Figure size 432x288 with 1 Axes>"
      ]
     },
     "metadata": {
      "needs_background": "light"
     },
     "output_type": "display_data"
    }
   ],
   "source": [
    "newImg = img.copy()\n",
    "print(\"Shape is \",newImg.shape)\n",
    "# fill third row\n",
    "print(\"Third row, initially: \")\n",
    "pprint.pprint(newImg[2])\n",
    "newImg[2,:] = 250\n",
    "print(\"Third row, modified: \")\n",
    "pprint.pprint(newImg[2])\n",
    "\n",
    "# fill second column\n",
    "newImg[:,1] = 10\n",
    "\n",
    "# mask all elements with value below below 100\n",
    "mask = newImg < 100\n",
    "newImg[mask] = 0\n",
    "plt.imshow(newImg,cmap=\"Greys\")\n",
    "plt.axis('off')\n",
    "\n",
    "# we are now showing the original image for reference. To have two images in the same cell\n",
    "# we need to call plt.show() explicitly\n",
    "print(\"New image\")\n",
    "plt.show()\n",
    "print(\"Original image\")\n",
    "plt.imshow(img,cmap=\"Greys\")\n",
    "_ = plt.axis('off')\n"
   ]
  },
  {
   "cell_type": "markdown",
   "id": "07f2dd94",
   "metadata": {},
   "source": [
    "## Summary\n",
    "We have seen that a 2D array has the same data structure as an image and we can convert from one to the other. This enables us to construct raw images using mathematical tools and convert them to images. We can also load images and apply math to the pixel elements."
   ]
  }
 ],
 "metadata": {
  "kernelspec": {
   "display_name": "Python 3",
   "language": "python",
   "name": "python3"
  },
  "language_info": {
   "codemirror_mode": {
    "name": "ipython",
    "version": 3
   },
   "file_extension": ".py",
   "mimetype": "text/x-python",
   "name": "python",
   "nbconvert_exporter": "python",
   "pygments_lexer": "ipython3",
   "version": "3.7.10"
  }
 },
 "nbformat": 4,
 "nbformat_minor": 5
}
