{
 "cells": [
  {
   "cell_type": "markdown",
   "id": "06d75a8c",
   "metadata": {},
   "source": [
    "# Zahlen\n",
    "Im Computer ist alles ein *Haufen Zahlen*\n",
    "\n",
    "Was sind das für Zahlen?\n",
    "Als Menschen sind wir sind vertraut mit dem Dezimalsystem, also den Zahlen 0 bis 9 und Wertigkeiten der verschiedenen Stellen von Eins, Zehn, Hundert, Tausend, etc. \n",
    "\n",
    "Beispielsweise die Zahl 123: Ein *Hunderter*, Zwei *Zehner*, Drei *Einer*\n",
    "Die einzelnen Stellen sind immer Potenzen von 10, d.h. die Basis ist immer 10. Daher 10-er System oder Dezimalsystem.\n",
    "\n",
    "Wir können aber zur Darstellung eines Wertes jede beliebige Basis verwenden.\n",
    "Im 7-er System hätte der **Wert** *Hundertdreiundzwanzig* dann die **Darstellung** *234*.\n",
    "Die Stellenwertigkeit ist Eins, Sieben, Neunundvierzig, etc.\n",
    "\n",
    "```\n",
    "2 * (7*7) + 3*7 + 4  = 123 im Dezimalsystem\n",
    "```\n",
    "\n",
    "**234 (Basis 7) = 123 (Basis 10)** \n",
    "\n",
    "Es ist also wichtig, zwischen dem *Wert* und der *Darstellung* zu unterscheiden.\n",
    "\n",
    "Das 7-er System hatte in der Technik allerdings nie eine besondere Bedeutung. \n"
   ]
  },
  {
   "cell_type": "markdown",
   "id": "5164e3a3",
   "metadata": {},
   "source": [
    "## Binärsystem\n",
    "Anfangs wurden für spezielle Anwendungen auch sogenannte *Analogrechner* eingesetzt. Dabei macht man sich\n",
    "spezielle physikalische Eigenschaften zu nutze um z.B. Multiplikation und Addition auszuführen.\n",
    "\n",
    "Der Übergang vom *Analogen* ins *Diskrete* wurde dann aber mit der Einführung des **Binärsystems** recht schnell vollzogen.\n",
    "\n",
    "Das Binärsystem (oder Dualsystem) arbeitet mit einer Zahldarstellung zur Basis 2, d.h. es gibt \n",
    "nur die Werte **0** und **1** und die Wertigkeiten der Stellen sind *Zweierpotenzen*: 1,2,4,8,16 etc\n",
    "    \n",
    "Unsere Zahl 123 wird also in Binärschreibweise zu "
   ]
  },
  {
   "cell_type": "code",
   "execution_count": null,
   "id": "4c7f4d87",
   "metadata": {},
   "outputs": [],
   "source": [
    "print(f\"{123:b}\")\n"
   ]
  },
  {
   "cell_type": "markdown",
   "id": "6b5c71d3",
   "metadata": {},
   "source": [
    "Von rechts nach links also \n",
    "```\n",
    " 1*1 + 1*2 + 0*4 + 1*8 + 1*16 +1*32 + 1*64\n",
    "```\n",
    "Nebenbei haben wir gleich noch ein erstes *Programm* in der Programmiersprache **Python** gesehen, nämlich die Anweisung, einen Wert in einem bestimmten Format auszugeben. Dazu später mehr.\n"
   ]
  },
  {
   "cell_type": "markdown",
   "id": "8f8cd82d",
   "metadata": {},
   "source": [
    "## Zählweise\n",
    "Im Alltag sind wir gewohnt, z.B. von 1 bis 10 zu zählen, wenn wir 10 Werte meinen. Mit der *Zehn* sind wir dabei aber schon im 2-stelligen Bereich, da wir die *Null* als eigenständige Zahl weglassen. Beim Umgang mit Computern gilt aber, dass wir den gesamten Bereich ausnutzen, d.h. \n",
    "\n",
    "**wir zählen IMMER ab 0.** \n"
   ]
  },
  {
   "cell_type": "markdown",
   "id": "84fd8e6b",
   "metadata": {},
   "source": [
    "## Logik und Elektronik\n",
    "Die Nutzung von nur zwei Werten 0 und 1 brachte mehrere Vorteile für die Realisierung technischer Rechenmaschinen\n",
    "(nicht vergessen: noch früher waren Computer Menschen, siehe [Film *Hidden Figures*](https://de.wikipedia.org/wiki/Hidden_Figures_%E2%80%93_Unerkannte_Heldinnen))\n",
    "\n",
    "Die Werten 1 und 0 lassen sich direkt auf die in der Logik verwendeten Werte *Wahr* und *Falsch* abbilden. \n",
    "Das ermöglicht die **direkte** Darstellung von logischen Bedingungen und Anweisungen als Zahlen im Binärsystem.\n",
    "\n",
    "Algorithmen und Programme sind üblicherweise eine komplexe Kombination von Regeln und Berechnungen, die damit\n",
    "alle auf einheitliche Weise umgesetzt werden können: \n",
    "\n",
    "Zahlenfolgen als Anweisungen für Maschinen, die damit Daten aus Zahlenfolgen bearbeiten.\n",
    "\n",
    "Mit 0 und 1 steht auch eine *robuste* Darstellung mit einem großen *Störabstand* zur Verfügung, \n",
    "was für die Realisung mit elektronischen Bauelementen wichtig ist. Die Unterscheidung *Strom fleißt* \n",
    "zu *Strom fließt nicht* ist einfacher und unter wechselnden Umweltbedingungen (Temperatur) zuverlässiger zu treffen\n",
    "als wenn man mehrere Abstufungen erkennen müßte. Dieses *An* und *Aus* läßt sich optimal mit einem [Transistor](https://de.wikipedia.org/wiki/Transistor) als Schalter umsetzen. \n",
    "Auch wenn der Transistor sehr nicht sehr detailliert behandelt wird, bekommt man einen guten Eindruck von den frühen elektronischen Interfaces für Musik im Film [Sisters with Transistors](https://sisterswithtransistors.com/) \n",
    "\n",
    "Ein Nachteil ist natürlich, dass zur Darstellung der Werte mehr Stellen benötigt werden. Wenn wir wieder die\n",
    "Zahlsysteme betrachten, kann man mit 3 Dezimalstellen Werte bis 999 darstellen. Im Binärtsystem benötigen wir dafür \n",
    "10 Stellen (Maximalwert ist hier 1023). Wir benötigen also etwas mehr als 3-mal soviel Stellen.\n"
   ]
  },
  {
   "cell_type": "markdown",
   "id": "c7df58ad",
   "metadata": {},
   "source": [
    "## Bits und Bytes\n",
    "Die einzelnen Stellen im Binätsystem werden als [*Bits*](https://de.wikipedia.org/wiki/Bit) bezeichnet. Im Laufe der Zeit haben sich einige Konventionen entwickelt, z.B. dass man Binärzahlen in Gruppen zu 8 Bit benutzt, den sogenannten *Bytes*. Für Vielfache werden dann die üblichen physikalischen Größenbezeichnungen wie *kilo*, *Mega*, *Giga* etc verwendet, wobei sich *kilo* und die abgeleiteten Begriffe je nach Kontext auf die Basis 1000 (10 hoch 3) oder 1024 (2 hoch 10) bezie\n",
    "\n",
    "hen können. \n",
    "\n",
    "Mit den 8 Bit in einem Byte lassen sich Werte zwischen 0 und 255 darstellen. Sofern man das Byte als *vorzeichenlose ganze Zahl* (unsigned) betrachtet. \n",
    "\n",
    "### Hexadezimal System\n",
    "Um die Handhabung der vielen binären Stellen etwas zu vereinfachen und trotzdem im einem System auf Basis 2 zu bleiben, hat sich das Hexadezimalsystem eingebürgert: die Basis ist 16. Um die Werte gut darstellen zu können, wurden einfach den Zahlen 0 bis 9 noch die Buchstaben A bis F hinzugefügt mit den Stellenwerten 10 bis 15. Damit kann man ein Byte mit zwei *Ziffern* (aus dem Hex Vorrat) darstellen, von 00 bis FF. Zur Kennzeichnung wird häufig ein 0X vorangestellt oder ein H nachgestellt, sofern nicht aus dem Kontext sowieso klar ist, dass man mit Hex Zahlen hantiert.\n",
    "\n",
    "Unsere 123 wird so zu 0x7B: 7\\*16 + 11"
   ]
  },
  {
   "cell_type": "code",
   "execution_count": null,
   "id": "70278036",
   "metadata": {},
   "outputs": [],
   "source": [
    "print(f\"{123:x}\")"
   ]
  },
  {
   "cell_type": "markdown",
   "id": "d5a73961",
   "metadata": {},
   "source": [
    "## Datentypen\n",
    "Wir können aber auch andere Konventionen verwenden. Z.B. kann man ein Bit als Vorzeichen benutzen, damit ergibt sich ein Wertebereich von -128 bis +127. Damit haben wir eine *vorzeichenbehaftete ganze Zahl* (signed). \n",
    "\n",
    "Als Vorzeichenbit dient üblicherweise das erste. In der bekannten Zahldarstellung ist die erste Stelle die mit der höchsten Wertigkeit (also die Hunderter, bei unserem Beispiel 123). Das erste Bit steht also ganz links und wird manchmal auch als *oberstes Bit* bezeichnet.\n",
    "\n",
    "Da der Wertebereich, der sich mit einem einzelnen Byte darstellen läßt, oft nicht ausreicht, fasst man mehrer Bytes zu größeren Zahlen zusammen. Wie das gemacht wird, hängt teilweise von Konverntionen und teilweise von der \n",
    "technischen Realisierung der Maschinen ab.\n",
    "\n",
    "Übliche Gruppierungen sind 1, 2, 4 und 8 Bytes. Daraus leiten sich sogenannte Datentypen ab, im einfachsten Fall verschiedene *Integer*-Datentypen (ganze Zahlen), jeweils als *signed* oder *unsigned*.\n",
    "\n",
    "Die Wertebereiche wären dann\n",
    "\n",
    "| 1 Byte | 2 Byte | 4 Byte | 8 Byte |\n",
    "| :----: | :----: | :----: | :----: |\n",
    "| 8 Bit | 16 Bit | 32 Bit | 64 Bit |\n",
    "| 256 | 65536 |4294967296 | 18446744073709551616 |\n",
    "\n",
    "Man kann die Wertebereiche auch grob abschätzen, indem man die Anzahl der Bits durch 3 teilt und den passenden Dezimalwert nimmt (z.B. 32 Bit / 3 => 10 Stellen ~ 10 Milliarden)."
   ]
  },
  {
   "cell_type": "markdown",
   "id": "1e3f8cae",
   "metadata": {},
   "source": [
    "## Dezimalzahlen\n",
    "Da wir bei der Interpretation der Bitfolgen völlig frei sind, könnten wir auch einfach sagen, unser Byte enthält in der Mitte einen Dezimalpunkt. Damit hätten wir eine Dezimalzahl mit 4 Stellen vor und 4 Stellen nach dem Komma.\n",
    "\n",
    "  |  |  |  |\n",
    "  | :--- | ---: | ---: |\n",
    "| Kleinster Wert | 1/16 | 0000 0001 |\n",
    "| Größter Wert | 15 + 15/16  | 1111 1111 |\n",
    "\n",
    "Dieser Wertebereich ist allerdings sehr klein. Um für typische Anwendungen einen angemessenen Wertebereich zu\n",
    "realisieren, hat sich die Verwendung sogenannter [*Floating Point*](https://de.wikipedia.org/wiki/IEEE_754) Dezimalzahlen etabliert. Dabei ist der Dezimalpunkt nicht an einer bestimmten Stelle wie hier, sondern kann durch Angabe eines *Exponenten* verschoben werden. Üblich sind 32 oder 64 Bit für Floats, es gibt aber auch Varianten mit 8,16 und 128 Bit. \n",
    "\n",
    "\n"
   ]
  },
  {
   "cell_type": "markdown",
   "id": "8dea7d63",
   "metadata": {},
   "source": [
    "## Text\n",
    "Texte bestehen aus Aneinanderreihungen von Buchstaben und Satzzeichen. Klarerweise werden auch diese Zeichen im Computer als Zahlen dargestellt. Welcher Buchstabe von welcher Zahl repräsentiert wird, wird in Zeichentabellen festgelegt. In den ersten Realisierungen wurde der sogenannte [*ASCII*-Zeichensatz](https://de.wikipedia.org/wiki/American_Standard_Code_for_Information_Interchange) mit nur 7 Bit (128 Zeichen) verwendet, der später auf 8 Bit erweitert wurde. \n",
    "\n",
    "Zur Unterstützung von internationalen Umlauten und nicht-lateinischen Symbolen wurden dann später weitere Zeichensätze eingeführt, sehr verbreitet ist [UTF-8](https://de.wikipedia.org/wiki/UTF-8) und Varianten davon. Bei *UTF* werden die häufigen Zeichen aus der *ASCII* Reihe mit je einem Byte codiert und andere Symbole mit mehreren Bytes.\n",
    "\n",
    "Zur Vereinfachung gehen wir in den späteren Beispielen davon aus, dass ein Buchstabe auch ein Byte ist.\n",
    "\n",
    "**Was ist nun der Unterschied zu den Zahlen, wo die Buchstaben doch auch Bytes sind?**\n",
    "\n",
    "Für Zahlen haben wir bestimmte Formate festegelegt, also die Anzahl an Bytes, die wir für einen bestimmten Typ verwenden. \n",
    "Texte können verschieden lang sein. Man benötigt also Methoden, um das Ende zu markieren und festzustellen. Solche Methoden werden von allen gängigen Programmiersprachen unterstützt. In Python geht das mit der Funktion *len()*.\n",
    "\n"
   ]
  },
  {
   "cell_type": "code",
   "execution_count": null,
   "id": "ec73815e",
   "metadata": {},
   "outputs": [],
   "source": [
    "print(\"Länge des Textes 'Dies ist ein Beispieltext.' ist \",len('Dies ist ein Beispieltext.'),\" Bytes\")"
   ]
  },
  {
   "cell_type": "markdown",
   "id": "29a802cb",
   "metadata": {},
   "source": [
    "Um Texte als solche zu Kennzeichnen, werden Hochkommas \" oder ' verwendet.\n",
    "\n",
    "Die Zahlenwerte der einzelnen Buchstaben erhalten wir aus der Zeichentabelle oder über eine passende Funktion, hier *ord()*."
   ]
  },
  {
   "cell_type": "code",
   "execution_count": null,
   "id": "b98396e1",
   "metadata": {},
   "outputs": [],
   "source": [
    "print([ord(a) for a in \"Dies ist ein Beispieltext.\"])"
   ]
  },
  {
   "cell_type": "markdown",
   "id": "10e047be",
   "metadata": {},
   "source": [
    "Die einzelnen Werte werden hier durch Komma getrennt, damit erhalten wir eine *Liste* von Werten anstelle des zusammenhängenden Textes.\n",
    "\n",
    "Durch entsprechende Formatierung können wir auch eine gleichartige Stellenanzahl festlegen:\n"
   ]
  },
  {
   "cell_type": "code",
   "execution_count": null,
   "id": "6cd6d8e4",
   "metadata": {},
   "outputs": [],
   "source": [
    "print([f\"{ord(a):03}\" for a in \"Dies ist ein Beispieltext.\"])"
   ]
  },
  {
   "cell_type": "markdown",
   "id": "6738bbd1",
   "metadata": {},
   "source": [
    "## Listen\n",
    "Auflistungen von Werten kommen häufig vor und werden daher in vielen Sprachen auch als eigenständige Datentypen behandelt. In Python werden Listen durch eckige Klammern gekennzeichnet und die einzelnen Elemente dazwischen werden mit Komma getrennt, wie oben zu sehen.\n",
    "\n",
    "Wir können anstelle der Liste der Zeichenwerte auch eine Liste der Zeichen bekommen. Hier erledigt das die Funktion *list()*, die den Text in eine Liste umwandelt."
   ]
  },
  {
   "cell_type": "code",
   "execution_count": null,
   "id": "11275dc2",
   "metadata": {},
   "outputs": [],
   "source": [
    "print(list(\"Dies ist ein Beispieltext.\"))"
   ]
  },
  {
   "cell_type": "markdown",
   "id": "a24e6f57",
   "metadata": {},
   "source": [
    "Wir sehen noch denselben Text, nur eben als Liste von einzelnen Buchstaben. In einer Liste sind die Elemente sequentiell angeordnet und wir können auf einzelne Elemente über ihre Position zugreifen. Das *i* von *ist* steht beispielsweise an der 6. Stelle, d.h. wir verwenden den Listenindex 5 **(Erinnerung: Wir zählen ab 0)**, den wir in eckiger Klammer angeben."
   ]
  },
  {
   "cell_type": "code",
   "execution_count": null,
   "id": "1ee8ad24",
   "metadata": {},
   "outputs": [],
   "source": [
    "print(list(\"Dies ist ein Beispieltext.\")[5])"
   ]
  },
  {
   "cell_type": "markdown",
   "id": "b8e2e0c8",
   "metadata": {},
   "source": [
    "Wir bekommen das *i* auch, ohne die List-Funktion anzuwenden, da in Python Texte sowieso Listen sind "
   ]
  },
  {
   "cell_type": "code",
   "execution_count": null,
   "id": "da021a6a",
   "metadata": {},
   "outputs": [],
   "source": [
    "print(\"Dies ist ein Beispieltext.\"[5])"
   ]
  },
  {
   "cell_type": "markdown",
   "id": "c98bea90",
   "metadata": {},
   "source": [
    "## Variablen\n",
    "Nun haben wir oft genug \n",
    "\n",
    "> \"Dies ist ein Beispieltext.\"\n",
    "\n",
    "geschrieben und es wird Zeit für eine Vereinfachung. Eines der grundlegenden Konzepte von Programmierung sind sogenannten *Variablen*. Damit legen wir eine Bezeichnung für ein *Objekt* fest, das wir im Programmablauf immer wieder unter diesem Namen erreichen können. Insbesondere können wir der Variablen einen Wert zuweisen und wir können den Wert der Variablen abfragen. Die Syntax für Anlegen, Zuweisen und Abfragen kann je nach Programmiersprach sehr unterschiedlich sein. Python macht es uns einfach (zunächst):"
   ]
  },
  {
   "cell_type": "code",
   "execution_count": null,
   "id": "dbbbfdf4",
   "metadata": {},
   "outputs": [],
   "source": [
    "var1 = 123\n",
    "var2 = \"Python\"\n",
    "print(\"Var1 ist \", var1)\n",
    "print(\"Var2 ist \", var2)\n",
    "print(\"Typ von var1 ist\", type(var1))\n",
    "print(\"Typ von var2 ist\", type(var2))\n",
    "var3 = list(var2)\n",
    "print(\"Var3 ist \", var3)\n",
    "print(\"Typ von var3 ist\", type(var3))"
   ]
  },
  {
   "cell_type": "markdown",
   "id": "ef71271a",
   "metadata": {},
   "source": [
    "Wir haben var1 mit dem Wert 123 als ganze Zahl und var2 als Text mit dem Wert \"Python\" deklariert.\n",
    "\n",
    "Die beiden ersten *print* Ausgaben liefern wieder diese Werte. Die beiden folgenden prints liefern die Datentypen *int* und *str* (für String).\n",
    "\n",
    "Dann haben wir var2 in eine Liste umgewandelt und in var3 gespeichert. Hier bekommen wir wie erwartet die einzelnen Zeichen des Textes \"Python\" und als Datentyp *list*.\n",
    "\n",
    "Wir wir oben gesehen haben, können wir auf die einzelnen Elemente in einem Text auch über den Index zugreifen. Dies geht allerdings nur, wenn wir den Wert lesen, da Texte in Python *immutable* sind. Um den Inhalt, also einzelne Buchstaben an bestimmten Positionen, zu verändern, müssen wir zunächst explizit eine Liste erzeugen.  "
   ]
  },
  {
   "cell_type": "code",
   "execution_count": null,
   "id": "f7a04dd2",
   "metadata": {},
   "outputs": [],
   "source": [
    "# Dies ist ein Kommentar in Python. Alles hinter dem # wird nicht als Programmcode gewertet, bis\n",
    "# zum Ende der Zeile\n",
    "# Das brauchen wir jetzt für eine Erklärung, denn normalerweise würde es hier gleich einen Fehler geben:\n",
    "#   TypeError: 'str' object does not support item assignment\n",
    "# Da unser Notebook dann nicht weiter läuft, fangen wir diesen Fehler ab\n",
    "try:\n",
    "    var2[5] = \"x\"\n",
    "except TypeError as e:\n",
    "    print(\"Achtung! Hier gab es einen Fehler: \", e)"
   ]
  },
  {
   "cell_type": "code",
   "execution_count": null,
   "id": "99b38527",
   "metadata": {},
   "outputs": [],
   "source": [
    "# Aber mit der Liste in var3 geht das\n",
    "var3[5] = \"x\"\n",
    "print(\"Var3 ist jetzt \", var3)"
   ]
  },
  {
   "cell_type": "code",
   "execution_count": null,
   "id": "2964768f",
   "metadata": {},
   "outputs": [],
   "source": [
    "var4 = \"\".join(var3)\n",
    "print(\"Aus var3 wieder einen Text erzeugt: \",var4)"
   ]
  },
  {
   "cell_type": "markdown",
   "id": "9c15cac6",
   "metadata": {},
   "source": [
    "Um aus der Liste wieder einen Text zu erhalten, verbinden wir alle Elemente über das sog. *Leerzeichen \"\"*. Die Verbindungsfunktion heißt hier *join*. Man könnte auch andere Zeichen zur Verbindung benutzen, z.B. ein \"|\".\n",
    "\n",
    "> P|y|t|h|o|x\n",
    "\n"
   ]
  },
  {
   "cell_type": "markdown",
   "id": "b6d76bbe",
   "metadata": {},
   "source": [
    "## Funktionen und Kontrollstrukturen\n",
    "Kommen mit den folgenden Beispielen"
   ]
  },
  {
   "cell_type": "markdown",
   "id": "50515fb4",
   "metadata": {},
   "source": [
    "## Programmieren mit Python\n",
    "\n",
    "Python ist eine frei verfügbare Programmiersprache, die auf allen Plattformen einsetzbar ist, siehe\n",
    "[https://python.org/](https://python.org/). \n",
    "Python ist nur eine von vielen Programmiersprachen und leicht zu erlernen. Allerdings gibt es ein paar Fallstricke, wenn man bereits eine andere Sprache wir C++ oder Java kennt, insbesondere:\n",
    "\n",
    " * Blöcke werden durch **Einrücken** gekennzeichnet, nicht durch Klammern\n",
    " * Variablen werden nicht deklariert\n",
    " * Python wird interpretiert, nicht compiliert\n",
    "\n",
    "Von der Formatierung abgesehen läßt Python sehr viele Freiheiten bei der Eingabe des Programmcodes. Dadurch kann das Programm aber auch schnell unübersichtlich werden. \n",
    "\n",
    "Ein guter Startpunkt zum Lernen von Python ist der *Beginners Guide* auf [https://www.python.org/about/gettingstarted/](https://www.python.org/about/gettingstarted/)\n",
    "\n",
    "Wie für die meisten Programmiersprachen gibt es daher auch für Python einen Style Guide, der Hinweise zu gutem \n",
    "Programmierstiel gibt, z.B. Regeln zur Benennung von Variablen.\n",
    "\n",
    "Python style guide [PEP-08](https://www.python.org/dev/peps/pep-0008/)\n"
   ]
  },
  {
   "cell_type": "markdown",
   "id": "d48beb82",
   "metadata": {},
   "source": [
    "## Installation von Python\n",
    "\n",
    "\n",
    "Wir verwenden Version 3.7, Das ist nicht zwar die neueste, unterstützt aber alle Erweiterungen, die evtl. interessant sein könnten. \n",
    "\n",
    "Dokumnetation gibt es hier \n",
    "[https://docs.python.org/3.7/](https://docs.python.org/3.7/)\n",
    "\n",
    "Download hier\n",
    "\n",
    "[https://www.python.org/downloads/release/python-379/](https://www.python.org/downloads/release/python-379/)\n",
    "\n",
    "  * [Windows](https://www.python.org/ftp/python/3.7.9/python-3.7.9-amd64.exe) \n",
    "  * Oder im Appstore => Python 3.7\n",
    "\n",
    "  * [Mac](https://www.python.org/ftp/python/3.7.9/python-3.7.9-macosx10.9.pkg)\n",
    "\n",
    "  * Linux: nomrlaerweise über die Distribution, oder von [https://www.python.org/ftp/python/3.7.9/Python-3.7.9.tgz](https://www.python.org/ftp/python/3.7.9/Python-3.7.9.tgz)\n",
    "\n",
    "\n",
    "\n",
    "Zum einfacheren Arbeiten empfiehlt sich die Installation einer Entwicklungsumgebung, wie Jupyter. Es geht aber auch nur mit Editor und Kommandozeile.\n",
    "\n",
    "**Installation Python3.7 und Jupyter** \n",
    "Jupyter ist eine Browser-basiert Entwicklungsumgebung für Python.\n",
    "\n",
    "Die Documentation ist  auf [https://jupyter-notebook.readthedocs.io/en/stable/notebook.html](https://jupyter-notebook.readthedocs.io/en/stable/notebook.html) und speziell ab hier [https://jupyter-notebook.readthedocs.io/en/stable/notebook.html#structure-of-a-notebook-document](https://jupyter-notebook.readthedocs.io/en/stable/notebook.html#structure-of-a-notebook-document)\n",
    "\n",
    "[Jupyter Installation](https://jupyter.org/install)\n",
    "  Den Anleitungen folgen. Ich verwende immer *classic with pip* aber das ist Geschmackssache.\n",
    "\n",
    "Hints:\n",
    "\n",
    " * https://blog.roboflow.com/how-to-run-jupyter-notebooks-on-a-mac-m1/\n",
    " * https://medium.com/@blessedmarcel1/how-to-install-jupyter-notebook-on-mac-using-homebrew-528c39fd530f\n",
    " * https://medium.com/@kswalawage/install-python-and-jupyter-notebook-to-windows-10-64-bit-66db782e1d02\n",
    "\n",
    "\n",
    "Zusätzlich zu Python und Jupyter benötigen wir diese Erweiterungen:\n",
    "\n",
    " * pip install numpy pandas pillow matplotlib imageio scipy scikit-image wave moviepy \n",
    " * pip install pygame pygame_gui feedparser html2text numba\n",
    " * pip install opencv-python vispy ipywidgets music21 midi2audio pyaudio recorder\n",
    "\n",
    "Dabei müssen möglicherweise weitere Pakete installiert werden, wie portaudio (Audio device), \n",
    "OpenCV (Bildverarbeitung) oder FFMPEG (Video). \n",
    "Diese sind aber für den Einsteig noch nicht nötig. \n",
    "\n",
    "**Python Online**\n",
    "\n",
    " * [https://www.kaggle.com/code](https://www.kaggle.com/code)\n",
    " * [https://mybinder.org/](https://mybinder.org/)\n",
    " * [https://colab.research.google.com/](https://colab.research.google.com/)\n",
    " * [https://cocalc.com/](https://cocalc.com/)\n",
    " * [https://www.programiz.com/python-programming/online-compiler/](https://www.programiz.com/python-programming/online-compiler/)\n",
    "\n",
    "### Tutorial zum Seminar\n",
    "Die einführenden Beispiele zum Seminar sind in einem *Github* Respository zum Download verfügbar und können auch über eine *Binder* Installation online im Browser benutzt werden. Dazu ist keine Installation auf dem eigenen Rechner erforderlich. Das Starten dauert allerdings eine gewisse Zeit und nicht alle Beispiele lassen sich online ausführen.\n",
    "\n",
    " * Github Repository: [https://github.com/digital-codes/artAndTech/tree/st21](https://github.com/digital-codes/artAndTech/tree/st21)\n",
    " * Online Version: [https://mybinder.org/v2/gh/digital-codes/artAndTech/st21](https://mybinder.org/v2/gh/digital-codes/artAndTech/st21)\n",
    "\n",
    "\n",
    "\n"
   ]
  }
 ],
 "metadata": {
  "kernelspec": {
   "display_name": "Python 3 (ipykernel)",
   "language": "python",
   "name": "python3"
  },
  "language_info": {
   "codemirror_mode": {
    "name": "ipython",
    "version": 3
   },
   "file_extension": ".py",
   "mimetype": "text/x-python",
   "name": "python",
   "nbconvert_exporter": "python",
   "pygments_lexer": "ipython3",
   "version": "3.10.6"
  }
 },
 "nbformat": 4,
 "nbformat_minor": 5
}
